{
 "metadata": {
  "name": "",
  "signature": "sha256:da78690e1ca0133a894dac6956acf7dca06365ee0a549f6285b3340a0f85708f"
 },
 "nbformat": 3,
 "nbformat_minor": 0,
 "worksheets": [
  {
   "cells": [
    {
     "cell_type": "markdown",
     "metadata": {},
     "source": [
      "#1. load and fix data"
     ]
    },
    {
     "cell_type": "code",
     "collapsed": false,
     "input": [
      "import pandas as pd\n",
      "import numpy as np\n",
      "\n"
     ],
     "language": "python",
     "metadata": {},
     "outputs": [],
     "prompt_number": 1
    },
    {
     "cell_type": "markdown",
     "metadata": {},
     "source": [
      "<font color='blue'>sorry for the super long list</font>"
     ]
    },
    {
     "cell_type": "code",
     "collapsed": false,
     "input": [
      "data_str = '''republican,n,y,n,y,y,y,n,n,n,y,?,y,y,y,n,y\n",
      "republican,n,y,n,y,y,y,n,n,n,n,n,y,y,y,n,?\n",
      "democrat,?,y,y,?,y,y,n,n,n,n,y,n,y,y,n,n\n",
      "democrat,n,y,y,n,?,y,n,n,n,n,y,n,y,n,n,y\n",
      "democrat,y,y,y,n,y,y,n,n,n,n,y,?,y,y,y,y\n",
      "democrat,n,y,y,n,y,y,n,n,n,n,n,n,y,y,y,y\n",
      "democrat,n,y,n,y,y,y,n,n,n,n,n,n,?,y,y,y\n",
      "republican,n,y,n,y,y,y,n,n,n,n,n,n,y,y,?,y\n",
      "republican,n,y,n,y,y,y,n,n,n,n,n,y,y,y,n,y\n",
      "democrat,y,y,y,n,n,n,y,y,y,n,n,n,n,n,?,?\n",
      "republican,n,y,n,y,y,n,n,n,n,n,?,?,y,y,n,n\n",
      "republican,n,y,n,y,y,y,n,n,n,n,y,?,y,y,?,?\n",
      "democrat,n,y,y,n,n,n,y,y,y,n,n,n,y,n,?,?\n",
      "democrat,y,y,y,n,n,y,y,y,?,y,y,?,n,n,y,?\n",
      "republican,n,y,n,y,y,y,n,n,n,n,n,y,?,?,n,?\n",
      "republican,n,y,n,y,y,y,n,n,n,y,n,y,y,?,n,?\n",
      "democrat,y,n,y,n,n,y,n,y,?,y,y,y,?,n,n,y\n",
      "democrat,y,?,y,n,n,n,y,y,y,n,n,n,y,n,y,y\n",
      "republican,n,y,n,y,y,y,n,n,n,n,n,?,y,y,n,n\n",
      "democrat,y,y,y,n,n,n,y,y,y,n,y,n,n,n,y,y\n",
      "democrat,y,y,y,n,n,?,y,y,n,n,y,n,n,n,y,y\n",
      "democrat,y,y,y,n,n,n,y,y,y,n,n,n,?,?,y,y\n",
      "democrat,y,?,y,n,n,n,y,y,y,n,n,?,n,n,y,y\n",
      "democrat,y,y,y,n,n,n,y,y,y,n,n,n,n,n,y,y\n",
      "democrat,y,n,y,n,n,n,y,y,y,n,n,n,n,n,y,?\n",
      "democrat,y,n,y,n,n,n,y,y,y,y,n,n,n,n,y,y\n",
      "democrat,y,n,y,n,n,n,y,y,y,n,y,n,n,n,y,y\n",
      "democrat,y,y,y,n,n,n,y,y,y,n,y,n,n,n,y,y\n",
      "republican,y,n,n,y,y,n,y,y,y,n,n,y,y,y,n,y\n",
      "democrat,y,y,y,n,n,n,y,y,y,n,y,n,n,n,y,y\n",
      "republican,n,y,n,y,y,y,n,n,n,n,n,y,y,y,n,n\n",
      "democrat,y,y,y,n,n,n,y,y,y,n,y,n,n,n,y,?\n",
      "democrat,y,y,y,n,n,n,y,y,y,y,n,n,y,n,y,y\n",
      "republican,n,y,n,y,y,y,n,n,n,n,n,y,y,y,n,y\n",
      "democrat,y,y,y,n,n,n,y,y,y,n,n,n,n,n,y,y\n",
      "republican,n,y,n,y,y,y,n,n,n,n,n,y,y,y,n,n\n",
      "republican,y,?,n,y,y,y,n,n,n,y,n,y,?,y,n,y\n",
      "republican,y,y,n,y,y,y,n,n,n,n,n,n,y,y,n,y\n",
      "republican,n,y,n,y,y,y,n,n,n,y,n,y,y,y,n,n\n",
      "democrat,y,n,y,n,n,n,y,y,y,y,y,n,y,n,y,y\n",
      "democrat,y,y,y,n,n,n,y,y,y,n,?,n,n,n,n,?\n",
      "democrat,y,y,y,n,n,n,y,y,y,n,n,n,n,n,y,?\n",
      "democrat,y,n,y,n,n,n,y,y,y,n,n,n,n,n,n,y\n",
      "democrat,y,n,y,n,n,n,y,y,y,n,n,n,n,n,y,y\n",
      "democrat,y,y,y,n,n,n,y,y,y,n,y,n,n,n,n,?\n",
      "democrat,y,y,y,n,n,n,y,y,?,n,y,n,n,n,y,?\n",
      "democrat,y,y,y,n,n,n,y,y,y,n,n,n,n,n,n,y\n",
      "democrat,y,n,y,n,n,n,y,y,?,n,n,n,n,n,n,?\n",
      "democrat,y,y,y,n,n,n,y,y,n,n,n,n,n,y,n,y\n",
      "republican,n,?,n,y,y,y,n,n,n,n,n,y,y,y,n,n\n",
      "democrat,y,y,y,n,n,n,y,y,y,n,y,n,n,n,y,y\n",
      "republican,n,y,n,y,y,y,n,?,n,n,n,y,y,y,n,y\n",
      "democrat,y,y,y,n,n,n,y,y,y,n,n,n,n,n,?,?\n",
      "republican,y,y,n,y,y,y,n,n,n,y,n,y,y,y,n,n\n",
      "democrat,y,y,y,n,n,y,?,y,n,n,y,y,n,y,n,?\n",
      "republican,n,y,n,y,y,y,n,n,n,y,y,y,y,y,n,n\n",
      "republican,n,y,n,y,y,y,n,n,n,y,y,y,y,y,n,y\n",
      "republican,n,y,n,y,y,y,n,n,n,y,n,y,y,y,n,y\n",
      "republican,n,y,n,y,y,y,n,n,n,y,n,y,y,y,n,y\n",
      "republican,n,y,n,y,y,y,n,n,n,y,n,y,y,y,n,?\n",
      "democrat,y,y,y,n,n,?,y,y,y,y,n,n,n,n,y,?\n",
      "republican,n,y,n,y,y,y,n,n,n,n,n,y,y,y,n,n\n",
      "democrat,y,y,y,n,n,n,y,y,y,n,n,n,n,n,n,?\n",
      "democrat,y,y,y,n,n,n,y,y,y,n,y,n,n,n,n,y\n",
      "democrat,y,y,y,n,n,n,y,y,y,n,y,?,n,n,n,y\n",
      "republican,y,y,n,y,y,y,y,n,n,n,n,y,y,y,n,y\n",
      "republican,n,y,n,y,y,y,y,n,n,n,y,y,y,y,n,y\n",
      "republican,n,y,n,y,y,y,n,n,n,y,n,y,y,y,n,n\n",
      "democrat,y,?,y,n,n,n,y,y,y,n,n,n,y,n,y,y\n",
      "democrat,y,y,y,n,n,n,y,y,y,n,n,n,n,n,y,y\n",
      "democrat,y,n,y,n,n,n,y,y,y,n,n,n,y,n,y,?\n",
      "republican,y,y,y,y,n,n,y,y,y,y,y,n,n,y,n,y\n",
      "democrat,y,y,y,n,n,n,y,y,y,n,y,n,n,n,y,?\n",
      "republican,y,n,y,y,y,n,y,n,y,y,n,n,y,y,n,y\n",
      "democrat,y,n,y,n,n,y,y,y,y,y,y,n,n,y,y,y\n",
      "democrat,n,y,y,y,y,y,n,n,n,y,y,n,y,y,n,n\n",
      "democrat,n,y,y,n,y,y,n,n,n,y,y,y,y,y,n,?\n",
      "democrat,n,y,y,y,y,y,n,y,y,y,y,y,y,y,n,y\n",
      "democrat,y,y,y,n,y,y,n,n,n,y,y,n,y,y,n,y\n",
      "republican,n,n,n,y,y,n,n,n,n,y,n,y,y,y,n,n\n",
      "democrat,y,n,y,n,n,y,y,y,y,y,n,y,n,y,n,?\n",
      "democrat,y,n,y,n,n,n,y,y,?,y,y,y,n,y,n,y\n",
      "republican,n,n,n,y,y,y,n,n,n,y,n,y,y,y,n,y\n",
      "republican,n,n,n,y,y,y,n,n,n,n,n,y,y,y,n,n\n",
      "republican,n,?,n,y,y,y,n,n,n,y,n,y,y,y,n,n\n",
      "democrat,n,n,y,n,y,y,n,n,n,y,y,y,y,y,n,y\n",
      "republican,n,n,n,y,y,y,n,n,n,y,n,y,y,y,n,n\n",
      "republican,n,n,n,y,y,y,n,n,n,n,n,y,y,y,n,n\n",
      "democrat,n,y,y,n,y,y,y,n,y,y,y,n,y,y,n,y\n",
      "republican,n,n,n,y,y,y,n,n,n,y,n,?,y,y,n,?\n",
      "democrat,y,n,y,n,n,n,y,y,y,y,n,n,n,n,y,y\n",
      "democrat,y,n,y,n,n,n,y,y,y,y,y,n,n,n,y,y\n",
      "democrat,y,y,y,n,n,n,y,y,n,y,y,n,n,?,y,y\n",
      "democrat,y,n,y,n,n,n,y,n,y,y,y,n,n,n,y,y\n",
      "democrat,y,n,y,n,y,y,n,n,n,n,n,n,n,n,n,y\n",
      "democrat,y,n,y,n,y,y,n,?,?,n,y,?,?,?,y,y\n",
      "democrat,n,n,?,n,y,y,n,n,n,n,y,y,y,y,n,y\n",
      "democrat,y,n,n,n,y,y,y,n,n,y,y,n,n,y,n,y\n",
      "democrat,y,y,y,n,n,y,y,y,y,y,n,n,n,n,n,y\n",
      "republican,n,n,n,y,y,y,n,n,n,y,?,y,y,y,n,n\n",
      "democrat,y,n,n,n,y,y,n,n,n,n,y,y,n,y,n,y\n",
      "democrat,y,n,y,n,y,y,y,n,n,n,y,n,n,y,n,y\n",
      "democrat,y,n,y,n,y,y,y,n,?,n,y,n,y,y,y,?\n",
      "democrat,y,n,n,n,y,y,?,n,?,n,n,n,n,y,?,n\n",
      "democrat,?,?,?,?,n,y,y,y,y,y,?,n,y,y,n,?\n",
      "democrat,y,y,y,n,n,n,n,y,y,n,y,n,n,n,y,y\n",
      "republican,n,y,n,y,y,y,n,n,n,n,n,y,y,y,n,y\n",
      "republican,n,?,?,?,?,?,?,?,?,?,?,?,?,y,?,?\n",
      "democrat,y,?,y,n,n,n,y,y,y,n,n,n,n,n,y,?\n",
      "democrat,y,?,y,n,n,n,y,y,y,n,n,n,n,n,y,?\n",
      "democrat,n,n,y,n,n,n,y,y,y,y,n,n,n,n,y,y\n",
      "republican,n,?,n,y,y,y,n,n,n,y,n,y,y,y,n,y\n",
      "democrat,n,?,y,n,n,y,y,y,n,y,n,n,n,n,y,?\n",
      "republican,n,?,n,y,y,y,n,n,n,y,n,y,y,y,n,n\n",
      "democrat,y,?,y,n,n,n,y,y,y,n,n,n,n,n,y,?\n",
      "democrat,n,?,y,n,?,?,y,y,y,y,?,?,n,n,y,y\n",
      "democrat,y,n,y,n,n,n,y,y,y,n,y,n,n,n,y,y\n",
      "republican,y,y,y,y,y,n,y,n,n,n,n,y,y,y,n,y\n",
      "democrat,n,y,y,n,n,n,n,y,y,y,y,n,n,n,y,y\n",
      "republican,n,n,n,y,y,y,n,n,n,n,n,y,y,y,n,n\n",
      "republican,n,?,?,y,y,y,n,n,n,y,n,y,y,y,?,y\n",
      "republican,n,?,n,y,y,y,n,n,n,y,n,y,y,y,n,y\n",
      "republican,n,n,n,y,y,y,n,n,n,y,n,y,n,y,n,y\n",
      "republican,y,?,n,y,y,y,n,y,n,n,n,y,y,y,n,y\n",
      "democrat,n,?,y,n,n,n,y,y,y,n,n,n,n,n,y,y\n",
      "republican,n,?,n,y,y,y,n,n,n,y,n,y,y,y,n,y\n",
      "republican,n,?,n,y,y,y,n,n,n,n,n,y,y,y,n,n\n",
      "democrat,n,?,y,n,n,n,y,y,y,y,y,n,n,y,y,y\n",
      "democrat,n,?,y,n,n,y,n,y,n,y,y,n,n,n,y,y\n",
      "democrat,?,?,y,n,n,n,y,y,?,n,?,?,?,?,?,?\n",
      "democrat,y,?,y,n,?,?,y,y,y,n,n,n,n,n,y,?\n",
      "democrat,n,n,y,n,n,y,n,y,y,y,n,n,n,y,n,y\n",
      "republican,n,n,n,y,y,y,n,n,n,y,n,y,y,y,n,?\n",
      "republican,n,n,n,y,y,y,n,n,n,y,n,y,y,y,n,y\n",
      "republican,n,n,n,y,y,y,n,n,n,n,n,y,y,y,n,?\n",
      "republican,n,n,n,y,y,y,n,n,n,y,n,y,y,y,n,n\n",
      "republican,n,y,n,y,y,y,n,n,n,y,y,y,y,n,n,y\n",
      "democrat,n,?,y,n,n,y,y,y,y,y,n,n,n,y,y,y\n",
      "democrat,n,n,y,n,n,y,y,y,y,y,n,n,n,y,n,y\n",
      "democrat,y,n,y,n,n,y,y,y,y,n,n,n,n,n,y,y\n",
      "republican,n,n,n,y,n,n,y,y,y,y,n,n,y,y,n,y\n",
      "republican,n,n,n,y,y,y,y,y,y,y,n,y,y,y,?,y\n",
      "republican,n,n,n,y,y,y,y,y,y,y,n,y,y,y,n,y\n",
      "democrat,?,y,n,n,n,n,y,y,y,y,y,n,n,y,y,y\n",
      "democrat,n,?,n,n,n,y,y,y,y,y,n,n,n,y,n,?\n",
      "democrat,n,n,y,n,n,y,y,y,y,y,n,n,n,y,?,y\n",
      "republican,n,y,n,y,y,y,n,n,n,n,n,y,y,y,n,y\n",
      "democrat,n,n,n,n,n,n,y,y,y,y,n,y,y,y,y,y\n",
      "republican,n,y,n,y,y,y,n,n,n,y,y,y,y,y,n,y\n",
      "democrat,n,n,y,n,n,n,y,y,y,y,n,n,y,n,y,y\n",
      "republican,y,y,n,y,y,y,n,n,n,y,n,y,y,y,n,y\n",
      "democrat,y,y,?,y,y,y,n,n,y,n,y,?,y,y,n,n\n",
      "democrat,n,y,y,n,n,y,n,y,y,y,y,n,y,n,y,y\n",
      "democrat,n,n,y,n,n,y,y,y,y,y,y,n,y,y,n,y\n",
      "republican,n,y,n,y,y,y,n,n,n,n,n,y,y,y,n,n\n",
      "republican,y,y,n,y,y,y,n,?,n,n,y,y,y,y,n,n\n",
      "republican,y,y,n,y,y,y,y,n,n,n,n,y,y,y,n,n\n",
      "democrat,n,y,y,n,n,y,n,y,y,n,y,n,?,?,?,?\n",
      "republican,n,y,n,y,y,y,n,n,n,y,n,y,y,y,n,n\n",
      "democrat,n,y,y,n,?,y,y,y,y,y,y,n,n,?,n,?\n",
      "democrat,n,y,n,n,y,y,n,n,n,n,n,y,y,y,y,y\n",
      "democrat,n,n,n,n,y,y,y,n,n,n,n,y,y,y,n,y\n",
      "democrat,n,y,y,n,y,y,y,n,n,n,y,y,y,y,n,y\n",
      "republican,n,y,n,y,y,y,y,n,n,n,n,y,y,y,n,y\n",
      "democrat,y,y,n,n,y,y,n,n,n,y,y,y,y,y,n,?\n",
      "democrat,n,y,y,n,n,y,y,y,y,y,y,n,y,n,y,?\n",
      "republican,y,n,y,y,y,y,y,y,n,y,n,y,n,y,y,y\n",
      "republican,y,n,y,y,y,y,y,y,n,y,y,y,n,y,y,y\n",
      "democrat,n,n,y,y,y,y,n,n,y,n,n,n,y,y,y,?\n",
      "democrat,y,n,y,n,n,n,y,y,y,y,y,n,n,y,n,y\n",
      "democrat,y,n,y,n,n,n,?,y,y,?,n,n,n,n,y,?\n",
      "republican,n,?,n,y,y,y,n,n,n,y,n,y,y,y,n,y\n",
      "democrat,n,y,y,n,n,n,y,y,y,y,n,n,?,n,y,y\n",
      "democrat,n,n,n,n,y,y,n,n,n,y,y,y,y,y,n,y\n",
      "democrat,y,?,y,n,n,n,y,y,y,n,n,n,n,n,y,?\n",
      "democrat,n,y,y,n,n,n,y,y,y,y,n,n,n,n,y,y\n",
      "republican,n,n,y,y,n,n,y,y,y,y,n,n,n,y,y,y\n",
      "democrat,n,n,y,n,n,n,y,y,y,y,y,?,n,n,y,y\n",
      "democrat,?,n,y,n,n,n,y,y,y,y,y,?,n,n,y,?\n",
      "democrat,y,n,y,n,n,n,y,y,y,y,n,n,n,n,y,y\n",
      "democrat,?,?,y,n,n,n,y,y,y,?,?,n,n,n,?,?\n",
      "democrat,n,n,y,n,n,n,y,y,y,y,y,n,n,n,y,y\n",
      "democrat,y,?,y,n,n,n,y,y,y,n,n,n,n,n,y,y\n",
      "democrat,?,?,?,?,?,?,?,?,y,?,?,?,?,?,?,?\n",
      "democrat,n,n,y,n,n,n,y,y,y,y,y,n,n,n,y,y\n",
      "democrat,y,n,y,n,n,n,y,y,y,y,n,?,n,n,y,y\n",
      "democrat,n,y,y,n,n,n,y,y,y,y,y,n,n,n,y,y\n",
      "democrat,y,n,y,n,n,n,y,y,y,n,n,n,n,n,y,?\n",
      "republican,y,?,n,y,y,y,y,y,n,n,n,y,?,y,?,?\n",
      "democrat,y,n,y,n,n,n,y,y,y,n,n,n,n,n,y,y\n",
      "republican,n,?,n,y,y,y,n,n,n,n,n,y,y,y,n,?\n",
      "republican,n,y,n,y,y,y,n,?,n,y,n,y,y,y,n,?\n",
      "democrat,n,n,n,n,n,y,y,y,y,n,y,n,n,y,y,y\n",
      "democrat,n,n,y,n,n,n,y,y,y,n,n,n,n,n,y,y\n",
      "democrat,n,n,y,n,n,y,y,?,y,y,y,n,n,n,y,y\n",
      "republican,n,n,n,y,y,y,n,n,n,n,n,y,y,y,n,?\n",
      "democrat,n,n,y,n,n,y,y,y,y,n,y,y,n,y,y,?\n",
      "republican,n,?,y,y,y,y,n,n,n,y,n,n,n,y,n,y\n",
      "democrat,n,n,y,n,n,n,y,y,y,y,y,n,?,n,y,?\n",
      "democrat,y,y,n,n,n,n,y,y,?,n,y,n,n,n,y,?\n",
      "democrat,n,n,y,n,n,n,y,y,y,n,n,n,n,y,y,y\n",
      "democrat,y,y,y,n,n,n,y,y,y,n,n,n,n,n,y,y\n",
      "democrat,y,n,y,n,n,y,y,y,y,y,y,n,n,n,y,y\n",
      "democrat,y,n,y,n,n,n,y,y,y,y,n,n,n,n,y,y\n",
      "republican,n,n,y,y,y,y,y,n,n,n,n,y,y,y,n,y\n",
      "democrat,n,n,y,n,n,y,y,y,y,y,n,y,n,n,n,y\n",
      "republican,n,n,n,y,y,y,n,n,n,y,n,y,n,y,n,y\n",
      "republican,y,?,n,y,y,y,y,n,n,y,n,y,y,y,n,y\n",
      "democrat,n,n,y,n,n,n,y,y,y,n,n,?,n,n,y,y\n",
      "democrat,y,y,y,n,n,n,y,y,y,y,y,n,n,n,n,y\n",
      "democrat,n,n,y,n,n,y,y,y,y,n,n,n,n,n,y,y\n",
      "republican,n,y,n,y,y,y,n,n,n,y,n,y,y,y,n,y\n",
      "democrat,n,n,y,n,n,n,y,y,y,n,y,n,n,n,y,y\n",
      "democrat,n,y,y,n,n,y,n,y,y,n,y,n,y,n,y,y\n",
      "republican,y,y,n,y,y,y,n,n,n,y,n,y,y,y,n,y\n",
      "democrat,n,y,y,y,y,y,n,n,n,y,y,y,y,y,y,?\n",
      "democrat,y,y,y,n,y,y,n,n,?,y,n,n,n,y,y,?\n",
      "republican,n,y,n,y,y,y,n,n,n,y,n,y,y,y,n,n\n",
      "democrat,y,?,y,n,n,n,y,y,y,n,?,n,n,n,y,?\n",
      "democrat,n,y,y,n,n,n,n,y,y,n,y,n,n,y,y,y\n",
      "democrat,n,n,y,n,n,n,y,y,y,n,n,n,n,n,y,?\n",
      "democrat,n,y,y,n,y,y,n,n,n,n,y,n,n,n,y,?\n",
      "democrat,y,n,y,n,n,n,y,y,y,n,y,n,n,n,y,?\n",
      "republican,n,n,n,y,y,n,n,n,n,n,n,y,y,y,n,y\n",
      "republican,n,y,n,y,y,y,n,n,n,y,n,?,y,y,n,n\n",
      "republican,n,?,n,y,y,y,n,n,n,n,n,y,y,y,n,y\n",
      "democrat,n,n,y,n,n,y,y,y,y,n,y,n,n,y,y,y\n",
      "democrat,y,n,y,n,n,n,y,y,y,n,n,n,n,n,?,y\n",
      "republican,n,y,n,y,y,y,n,n,n,n,n,y,y,?,n,y\n",
      "republican,n,y,y,y,y,y,y,n,y,y,n,y,y,y,n,y\n",
      "republican,n,y,n,y,y,y,n,n,n,n,n,y,y,y,n,y\n",
      "republican,n,y,n,y,y,y,n,n,y,y,n,y,y,y,n,y\n",
      "democrat,n,y,y,n,n,n,y,y,n,n,y,n,n,n,y,?\n",
      "republican,n,y,n,y,y,y,n,n,n,y,n,y,y,y,n,y\n",
      "democrat,n,n,y,n,n,y,y,y,y,y,n,y,n,y,y,?\n",
      "republican,n,n,n,y,y,y,n,n,n,y,n,y,n,y,n,y\n",
      "democrat,n,n,y,n,n,n,y,y,y,n,n,n,n,n,y,y\n",
      "democrat,y,n,y,n,n,y,y,y,n,n,n,y,y,n,n,y\n",
      "democrat,y,y,y,n,n,n,y,y,?,y,n,n,n,n,y,?\n",
      "republican,n,n,n,y,y,y,y,n,n,y,n,n,n,y,y,y\n",
      "republican,n,n,n,y,n,y,y,?,y,n,n,y,y,y,n,y\n",
      "democrat,y,n,y,n,n,n,y,y,y,y,y,n,n,y,y,y\n",
      "republican,n,n,n,n,y,y,y,n,n,n,n,?,n,y,y,y\n",
      "democrat,n,y,y,n,n,n,y,y,?,y,n,n,y,n,y,y\n",
      "democrat,y,n,y,n,n,n,n,y,y,y,n,n,n,n,y,y\n",
      "democrat,y,n,y,n,n,n,y,y,y,y,y,n,n,n,y,y\n",
      "democrat,n,n,y,n,y,n,y,y,y,n,n,n,n,y,?,y\n",
      "republican,n,y,n,y,y,y,?,n,n,n,n,?,y,y,n,n\n",
      "republican,?,?,?,?,?,?,?,?,?,?,?,?,?,?,?,?\n",
      "democrat,y,n,y,n,n,n,y,y,?,n,y,n,n,n,y,y\n",
      "republican,n,y,n,y,y,y,n,n,n,n,n,y,y,y,n,n\n",
      "republican,n,y,n,y,y,y,n,n,n,n,n,y,y,y,n,n\n",
      "democrat,y,y,y,n,n,y,y,y,y,n,n,n,n,n,y,y\n",
      "republican,n,y,n,y,y,y,n,n,n,n,n,y,y,y,n,y\n",
      "democrat,y,n,y,n,n,n,y,y,y,y,n,n,n,n,n,y\n",
      "democrat,y,n,y,n,n,n,y,y,y,y,n,n,n,y,y,y\n",
      "republican,n,n,n,y,y,n,n,n,n,n,n,y,n,y,n,n\n",
      "republican,n,n,n,y,y,n,n,n,n,n,n,y,n,y,?,y\n",
      "democrat,n,n,y,n,n,n,y,y,y,n,y,n,n,n,y,y\n",
      "democrat,y,n,y,n,n,n,y,y,y,n,n,n,n,n,n,y\n",
      "democrat,y,n,y,n,n,n,y,y,y,y,n,n,n,n,n,y\n",
      "democrat,y,n,y,n,n,?,y,y,y,n,?,?,n,?,?,?\n",
      "democrat,y,n,y,n,n,n,y,y,y,y,n,n,?,n,y,y\n",
      "democrat,y,n,y,n,n,n,y,y,y,n,n,n,n,n,y,?\n",
      "democrat,y,n,y,n,n,n,y,y,y,n,n,n,n,n,y,?\n",
      "democrat,y,n,y,n,n,n,y,y,y,y,n,n,n,n,n,y\n",
      "republican,n,n,n,y,y,y,n,n,n,y,n,y,n,y,n,y\n",
      "republican,y,n,n,n,n,n,y,y,y,y,n,n,n,y,n,y\n",
      "democrat,y,n,y,n,n,n,y,y,y,n,n,n,n,n,y,?\n",
      "democrat,y,n,y,n,n,n,y,y,y,n,n,n,n,n,n,y\n",
      "democrat,y,y,y,n,n,n,y,y,y,n,n,n,n,n,y,y\n",
      "democrat,n,y,y,n,n,y,y,y,y,n,?,n,n,n,n,y\n",
      "democrat,y,n,y,n,n,n,y,y,y,y,n,n,n,n,y,?\n",
      "republican,n,n,n,y,y,n,y,y,n,y,n,y,y,y,?,y\n",
      "republican,y,n,n,y,y,n,y,n,n,y,n,n,n,y,y,y\n",
      "democrat,n,n,y,n,y,y,n,n,n,n,?,n,y,y,n,n\n",
      "republican,n,n,n,y,y,y,n,n,n,n,n,y,y,y,y,n\n",
      "republican,n,n,y,y,y,y,y,y,n,y,n,n,n,y,n,y\n",
      "republican,n,n,n,y,y,y,n,n,n,n,n,y,y,y,n,y\n",
      "republican,n,n,n,y,y,y,n,n,n,y,n,y,y,y,n,n\n",
      "democrat,n,n,y,n,n,n,y,y,y,y,n,n,n,y,n,y\n",
      "republican,y,n,y,y,y,y,y,y,n,n,n,n,n,y,n,?\n",
      "republican,y,n,n,y,y,y,n,n,n,y,n,?,y,y,n,n\n",
      "republican,n,n,n,y,y,y,n,n,n,n,n,y,y,y,n,y\n",
      "democrat,n,n,y,n,n,y,y,y,y,y,y,n,n,n,?,y\n",
      "democrat,n,n,y,n,n,y,y,y,y,y,y,n,n,n,y,y\n",
      "democrat,n,n,y,n,n,y,?,y,?,y,y,y,n,y,y,?\n",
      "democrat,y,y,y,?,n,y,y,y,y,n,y,n,y,n,?,y\n",
      "democrat,y,y,y,n,y,y,n,y,n,y,y,n,y,y,y,y\n",
      "democrat,y,y,y,n,y,y,n,y,n,y,y,n,y,y,n,?\n",
      "democrat,y,n,y,n,?,y,?,y,y,y,n,n,y,y,n,y\n",
      "democrat,y,n,y,n,n,y,y,y,y,y,n,?,n,y,n,y\n",
      "democrat,y,n,y,n,n,y,y,y,n,y,y,n,y,y,y,y\n",
      "democrat,y,y,y,n,n,y,y,y,y,y,y,n,y,y,y,y\n",
      "democrat,n,y,y,n,n,y,y,y,n,y,y,n,y,y,n,?\n",
      "republican,n,y,n,y,y,y,?,?,n,y,n,y,?,?,?,?\n",
      "republican,n,n,y,y,y,y,n,n,n,y,n,y,y,y,y,y\n",
      "democrat,y,y,y,n,n,y,y,y,y,y,n,n,?,n,y,?\n",
      "democrat,n,y,n,n,n,n,y,y,y,y,y,n,n,n,y,y\n",
      "democrat,n,y,y,n,n,y,y,y,y,y,n,n,y,y,y,y\n",
      "republican,n,n,n,y,y,n,y,y,y,y,n,y,y,y,n,y\n",
      "democrat,n,n,?,n,n,y,y,y,y,n,n,n,n,n,y,y\n",
      "republican,n,n,n,y,y,y,y,n,n,y,n,y,y,y,n,y\n",
      "republican,n,n,n,y,y,y,n,n,n,n,n,y,y,y,n,n\n",
      "republican,n,y,n,y,y,y,n,n,n,y,n,y,y,y,n,?\n",
      "republican,n,n,n,y,y,y,n,n,n,y,n,y,y,y,n,n\n",
      "republican,n,n,n,y,y,y,n,n,n,n,n,y,y,y,n,n\n",
      "democrat,y,n,y,n,n,y,y,y,y,n,n,n,n,y,n,?\n",
      "republican,n,n,n,y,y,y,n,n,n,y,n,y,y,y,n,n\n",
      "democrat,y,n,n,n,n,y,y,y,y,y,n,n,n,y,y,y\n",
      "republican,n,n,n,y,y,y,n,n,n,y,n,y,y,y,y,n\n",
      "democrat,n,n,y,n,n,y,y,y,y,y,n,n,y,n,n,y\n",
      "democrat,y,y,y,n,n,n,y,y,y,y,n,n,n,n,y,y\n",
      "republican,n,y,y,y,y,y,n,n,n,y,n,y,y,y,n,y\n",
      "republican,n,y,n,y,y,y,y,y,n,n,y,y,y,y,y,y\n",
      "republican,n,y,y,y,y,y,y,?,n,n,n,n,?,?,y,?\n",
      "democrat,n,n,n,n,n,y,n,y,y,n,y,y,y,y,y,n\n",
      "democrat,y,n,n,n,n,n,y,y,y,y,n,n,n,n,y,y\n",
      "democrat,n,n,y,n,n,n,y,y,y,n,n,n,n,n,y,?\n",
      "democrat,y,n,y,n,n,n,y,y,y,n,n,n,n,n,y,?\n",
      "democrat,n,y,y,n,n,y,n,y,y,y,n,n,y,y,n,y\n",
      "democrat,y,y,y,n,n,n,y,y,y,y,n,n,y,n,n,y\n",
      "democrat,y,y,y,n,?,y,n,?,n,n,y,n,y,y,n,?\n",
      "democrat,y,y,y,n,y,y,n,y,?,y,n,n,y,y,n,?\n",
      "republican,n,y,n,y,y,y,n,n,n,n,y,y,y,y,n,n\n",
      "democrat,n,y,n,n,y,y,n,n,?,n,n,y,y,y,n,y\n",
      "democrat,y,y,n,y,n,n,y,y,y,n,y,n,n,y,n,y\n",
      "republican,n,y,n,y,y,y,n,n,n,n,n,y,y,y,n,y\n",
      "democrat,y,y,y,n,n,n,y,y,y,n,y,n,n,n,n,y\n",
      "democrat,y,?,y,n,n,y,y,y,y,y,n,n,n,n,y,?\n",
      "republican,n,y,n,y,y,y,n,n,n,y,n,y,y,y,n,n\n",
      "democrat,y,?,y,n,n,n,y,y,y,n,n,n,n,n,y,?\n",
      "democrat,y,n,y,n,n,n,y,y,y,n,y,n,n,n,y,?\n",
      "democrat,n,n,y,n,n,n,y,y,y,n,n,n,n,n,y,y\n",
      "democrat,n,y,y,n,n,y,y,y,?,n,y,y,n,n,y,y\n",
      "republican,n,n,n,y,y,y,n,n,n,y,y,y,y,y,n,?\n",
      "democrat,n,n,y,n,n,y,y,y,n,n,y,n,n,y,?,y\n",
      "democrat,y,n,y,n,n,n,y,y,y,n,n,n,n,n,y,y\n",
      "democrat,y,n,y,n,n,n,y,y,y,y,n,n,n,y,y,y\n",
      "republican,y,n,n,y,y,y,n,n,n,n,y,y,y,y,n,n\n",
      "republican,n,n,n,y,y,y,n,n,n,y,y,y,n,y,n,y\n",
      "democrat,n,?,y,?,n,y,y,y,y,y,y,n,?,?,y,y\n",
      "democrat,n,y,y,n,y,?,y,n,n,y,y,n,y,n,y,y\n",
      "republican,n,n,n,y,y,n,y,n,y,y,n,n,n,y,n,y\n",
      "democrat,n,n,y,n,n,n,y,y,y,y,y,n,n,n,y,y\n",
      "republican,n,n,n,y,y,y,y,n,n,y,n,y,n,y,y,y\n",
      "republican,n,n,n,y,y,y,n,n,n,y,n,y,y,y,n,y\n",
      "republican,y,n,n,y,y,y,n,n,n,y,n,y,y,y,n,n\n",
      "democrat,y,n,y,n,n,n,y,y,y,y,n,y,n,n,y,?\n",
      "republican,n,y,y,y,y,y,y,y,y,n,n,y,y,y,n,y\n",
      "democrat,n,y,n,n,n,y,y,n,y,n,y,n,n,n,y,y\n",
      "republican,n,n,y,y,y,y,y,y,y,y,n,y,y,y,y,y\n",
      "democrat,n,y,n,y,n,y,y,y,y,n,y,n,y,n,y,?\n",
      "republican,n,n,y,y,y,y,y,n,n,y,y,y,y,y,n,y\n",
      "democrat,n,y,y,n,n,y,y,y,y,y,n,?,n,n,y,y\n",
      "republican,y,n,y,y,n,n,n,y,y,y,n,n,n,y,y,y\n",
      "republican,n,n,n,y,y,y,n,n,n,n,n,y,y,y,n,n\n",
      "republican,n,n,n,y,y,y,n,n,n,n,n,y,y,y,n,n\n",
      "democrat,y,y,y,n,n,y,y,y,y,y,y,y,y,y,n,?\n",
      "republican,n,n,n,y,y,y,n,n,n,y,?,y,y,y,n,y\n",
      "democrat,y,n,y,n,n,y,y,y,y,y,n,n,y,n,n,y\n",
      "democrat,y,n,y,n,y,y,y,n,y,y,n,n,y,y,n,?\n",
      "democrat,y,y,y,n,n,y,y,y,y,y,y,y,y,n,n,y\n",
      "republican,y,y,n,y,y,y,n,n,n,y,y,n,y,n,n,n\n",
      "republican,y,y,n,y,y,y,n,n,n,n,y,n,y,y,n,y\n",
      "democrat,n,y,n,n,y,y,n,n,n,y,y,n,y,y,n,n\n",
      "democrat,y,n,y,n,n,n,y,y,n,y,y,n,n,n,n,?\n",
      "democrat,y,y,y,n,y,y,y,y,n,y,y,n,n,n,y,?\n",
      "democrat,n,y,y,n,n,y,y,y,n,y,n,n,n,n,y,y\n",
      "republican,n,y,n,y,y,y,n,n,n,n,n,n,y,y,n,y\n",
      "democrat,y,y,y,n,?,y,y,y,n,y,?,?,n,n,y,y\n",
      "democrat,y,y,y,n,?,n,y,y,y,y,n,n,n,n,y,?\n",
      "democrat,n,y,y,y,y,y,n,n,n,n,y,y,?,y,n,n\n",
      "democrat,n,y,y,?,y,y,n,y,n,y,?,n,y,y,?,y\n",
      "republican,n,y,n,y,y,y,n,n,n,n,n,y,y,y,n,y\n",
      "democrat,n,y,n,y,y,y,n,n,n,n,y,y,n,y,n,n\n",
      "democrat,y,?,y,n,n,n,y,y,y,n,y,n,n,n,y,y\n",
      "republican,n,y,n,y,y,y,?,?,n,n,?,?,y,?,?,?\n",
      "republican,n,n,n,y,y,y,n,n,n,n,n,y,y,y,n,y\n",
      "republican,n,n,n,y,y,y,n,n,n,n,n,y,y,y,n,y\n",
      "democrat,y,y,y,n,n,y,?,y,y,n,y,n,y,n,y,y\n",
      "democrat,y,y,y,n,y,y,y,y,y,y,y,n,y,y,n,?\n",
      "democrat,y,y,n,y,y,y,n,n,n,n,y,n,y,y,n,?\n",
      "democrat,y,y,y,n,y,y,n,y,y,y,y,n,n,n,n,y\n",
      "democrat,y,y,y,y,y,y,n,n,n,n,y,y,y,y,n,y\n",
      "democrat,y,y,n,n,y,y,n,n,n,n,y,y,y,y,y,n\n",
      "democrat,n,?,y,n,y,y,n,y,n,n,y,n,n,n,n,?\n",
      "democrat,y,y,y,n,y,y,n,y,y,n,y,n,n,y,n,?\n",
      "democrat,n,y,y,y,y,y,n,n,n,n,n,y,y,y,n,?\n",
      "democrat,y,n,y,n,n,n,y,y,y,?,y,n,n,n,y,?\n",
      "democrat,?,?,n,n,?,y,?,n,n,n,y,y,n,y,n,?\n",
      "democrat,y,y,n,n,n,n,n,y,y,n,y,n,n,n,y,n\n",
      "republican,y,y,n,y,y,y,n,n,n,n,y,y,y,y,n,y\n",
      "republican,?,?,?,?,n,y,n,y,y,n,n,y,y,n,n,?\n",
      "democrat,y,y,?,?,?,y,n,n,n,n,y,n,y,n,n,y\n",
      "democrat,y,y,y,?,n,n,n,y,n,n,y,?,n,n,y,y\n",
      "democrat,y,y,y,n,y,y,n,y,n,n,y,n,y,n,y,y\n",
      "democrat,y,y,n,n,y,?,n,n,n,n,y,n,y,y,n,y\n",
      "democrat,n,y,y,n,y,y,n,y,n,n,n,n,n,n,n,y\n",
      "republican,n,y,n,y,?,y,n,n,n,y,n,y,y,y,n,n\n",
      "republican,n,y,n,y,y,y,n,?,n,n,?,?,?,y,n,?\n",
      "republican,n,y,n,y,y,y,n,n,n,y,y,y,y,y,n,n\n",
      "republican,?,n,y,y,n,y,y,y,y,y,n,y,n,y,n,y\n",
      "republican,n,y,n,y,y,y,n,n,n,y,n,y,?,y,n,n\n",
      "republican,y,y,n,y,y,y,n,n,n,y,n,y,y,y,n,y\n",
      "republican,n,n,n,y,y,y,n,n,n,n,n,y,y,y,n,y\n",
      "democrat,y,n,y,n,y,y,n,n,y,y,n,n,y,y,n,y\n",
      "democrat,n,n,n,y,y,y,n,n,n,n,y,y,y,y,n,n\n",
      "democrat,y,n,y,n,n,y,y,y,y,n,n,y,?,y,y,y\n",
      "republican,n,n,n,y,y,y,n,n,n,n,n,y,y,y,n,n\n",
      "republican,n,n,n,y,y,y,n,n,n,n,y,y,y,y,n,y\n",
      "democrat,y,n,y,n,n,y,y,y,y,y,y,n,n,n,n,y\n",
      "republican,n,n,n,y,y,y,n,n,n,y,n,y,y,y,n,y\n",
      "republican,y,y,y,y,y,y,y,y,n,y,?,?,?,y,n,y\n",
      "democrat,y,y,y,n,n,n,y,y,y,n,n,n,n,n,n,y\n",
      "democrat,n,y,y,n,n,y,y,y,?,y,n,n,n,n,n,y\n",
      "republican,y,y,n,y,y,y,n,n,n,y,n,n,y,y,n,y\n",
      "democrat,y,y,y,n,n,n,y,y,y,y,y,n,y,n,n,y\n",
      "democrat,y,y,y,n,n,n,y,y,n,y,n,n,n,n,n,y\n",
      "democrat,y,y,y,n,n,n,y,y,y,n,n,n,n,n,n,y\n",
      "republican,y,y,y,y,y,y,y,y,n,y,n,n,y,y,n,y\n",
      "democrat,n,y,y,n,y,y,y,y,n,n,y,n,y,n,y,y\n",
      "democrat,n,n,y,n,n,y,y,y,y,n,y,n,n,n,y,y\n",
      "democrat,n,y,y,n,n,y,y,y,y,n,y,n,n,y,y,y\n",
      "democrat,n,y,y,n,n,?,y,y,y,y,y,n,?,y,y,y\n",
      "democrat,n,n,y,n,n,n,y,y,n,y,y,n,n,n,y,?\n",
      "democrat,y,n,y,n,n,n,y,y,y,y,n,n,n,n,y,y\n",
      "republican,n,n,n,y,y,y,y,y,n,y,n,y,y,y,n,y\n",
      "democrat,?,?,?,n,n,n,y,y,y,y,n,n,y,n,y,y\n",
      "democrat,y,n,y,n,?,n,y,y,y,y,n,y,n,?,y,y\n",
      "republican,n,n,y,y,y,y,n,n,y,y,n,y,y,y,n,y\n",
      "democrat,n,n,y,n,n,n,y,y,y,y,n,n,n,n,n,y\n",
      "republican,n,?,n,y,y,y,n,n,n,n,y,y,y,y,n,y\n",
      "republican,n,n,n,y,y,y,?,?,?,?,n,y,y,y,n,y\n",
      "republican,n,y,n,y,y,y,n,n,n,y,n,y,y,y,?,n'''"
     ],
     "language": "python",
     "metadata": {},
     "outputs": [],
     "prompt_number": 7
    },
    {
     "cell_type": "markdown",
     "metadata": {},
     "source": [
      "Class Name: 2 (democrat, republican)\n",
      "A handicapped-infants: 2 (y,n)\n",
      "B water-project-cost-sharing: 2 (y,n)\n",
      "C adoption-of-the-budget-resolution: 2 (y,n)\n",
      "D physician-fee-freeze: 2 (y,n)\n",
      "E el-salvador-aid: 2 (y,n)\n",
      "F religious-groups-in-schools: 2 (y,n)\n",
      "G anti-satellite-test-ban: 2 (y,n)\n",
      "H aid-to-nicaraguan-contras: 2 (y,n)\n",
      "I mx-missile: 2 (y,n)\n",
      "J immigration: 2 (y,n)\n",
      "K synfuels-corporation-cutback: 2 (y,n)\n",
      "L education-spending: 2 (y,n)\n",
      "M superfund-right-to-sue: 2 (y,n)\n",
      "N crime: 2 (y,n)\n",
      "O duty-free-exports: 2 (y,n)\n",
      "P export-administration-act-south-africa: 2 (y,n)"
     ]
    },
    {
     "cell_type": "code",
     "collapsed": false,
     "input": [
      "data = data_str.split('\\n')\n",
      "data = [ i.split(',') for i in data]"
     ],
     "language": "python",
     "metadata": {},
     "outputs": [],
     "prompt_number": 36
    },
    {
     "cell_type": "markdown",
     "metadata": {},
     "source": [
      "<font color='blue'>Replace 'y's and 'n's</font>"
     ]
    },
    {
     "cell_type": "code",
     "collapsed": false,
     "input": [
      "for i in range(len(data)):\n",
      "    for j in range(len( data[0])):\n",
      "        try:\n",
      "            if data[i][j] == 'y':\n",
      "                data[i][j] = 1\n",
      "            elif data[i][j] == 'n':\n",
      "                data[i][j] = 0\n",
      "        except:\n",
      "            pass"
     ],
     "language": "python",
     "metadata": {},
     "outputs": [],
     "prompt_number": 37
    },
    {
     "cell_type": "code",
     "collapsed": false,
     "input": [
      "votes = pd.DataFrame(data, columns = ['name', 'a', 'b', 'c', 'd', 'e', 'f', 'g', 'h', 'i', 'j', 'k', 'l', 'm', 'n', 'o', 'p'])\n"
     ],
     "language": "python",
     "metadata": {},
     "outputs": [],
     "prompt_number": 38
    },
    {
     "cell_type": "markdown",
     "metadata": {},
     "source": [
      "<font color='blue'>Replace '?'s with mode of column</font>"
     ]
    },
    {
     "cell_type": "code",
     "collapsed": false,
     "input": [
      "for i in range(len(votes.ix[0])):\n",
      "    if (votes.ix[:,i].tolist()).count(1) > (votes.ix[:,i].tolist()).count(0):\n",
      "         for j in range(len(votes.ix[:,i])):\n",
      "             if votes.ix[j,i] == '?':\n",
      "                 votes.ix[j,i] = 1\n",
      "    else:\n",
      "         for j in range(len(votes.ix[:,i])):\n",
      "             if votes.ix[j,i] == '?':\n",
      "                 votes.ix[j,i] = 0"
     ],
     "language": "python",
     "metadata": {},
     "outputs": [],
     "prompt_number": 39
    },
    {
     "cell_type": "markdown",
     "metadata": {},
     "source": [
      "#2.Split data into training and test sets"
     ]
    },
    {
     "cell_type": "code",
     "collapsed": false,
     "input": [
      "from sklearn.cross_validation import train_test_split"
     ],
     "language": "python",
     "metadata": {},
     "outputs": [],
     "prompt_number": 42
    },
    {
     "cell_type": "code",
     "collapsed": false,
     "input": [
      "X_train, X_test, y_train, y_test = cross_validation.train_test_split(votes.ix[:,'a':'p'], votes.ix[:,'name'], test_size=0.4, random_state=0)"
     ],
     "language": "python",
     "metadata": {},
     "outputs": [],
     "prompt_number": 44
    },
    {
     "cell_type": "markdown",
     "metadata": {},
     "source": [
      "#3. Use KNN algorithm"
     ]
    },
    {
     "cell_type": "code",
     "collapsed": false,
     "input": [
      "from sklearn.neighbors import KNeighborsClassifier\n",
      "from sklearn.metrics import accuracy_score"
     ],
     "language": "python",
     "metadata": {},
     "outputs": [],
     "prompt_number": 49
    },
    {
     "cell_type": "markdown",
     "metadata": {},
     "source": [
      "<font color='blue'>try with one neighbor:</font>"
     ]
    },
    {
     "cell_type": "code",
     "collapsed": false,
     "input": [
      "neigh_one = KNeighborsClassifier(n_neighbors=1)"
     ],
     "language": "python",
     "metadata": {},
     "outputs": [],
     "prompt_number": 50
    },
    {
     "cell_type": "code",
     "collapsed": false,
     "input": [
      "neigh_one.fit(X_train, y_train)"
     ],
     "language": "python",
     "metadata": {},
     "outputs": [
      {
       "metadata": {},
       "output_type": "pyout",
       "prompt_number": 51,
       "text": [
        "KNeighborsClassifier(algorithm='auto', leaf_size=30, metric='minkowski',\n",
        "           n_neighbors=1, p=2, weights='uniform')"
       ]
      }
     ],
     "prompt_number": 51
    },
    {
     "cell_type": "code",
     "collapsed": false,
     "input": [
      "y_pred = neigh_one.predict(X_test)"
     ],
     "language": "python",
     "metadata": {},
     "outputs": [],
     "prompt_number": 52
    },
    {
     "cell_type": "code",
     "collapsed": false,
     "input": [
      "accuracy_score(y_test, y_pred)"
     ],
     "language": "python",
     "metadata": {},
     "outputs": [
      {
       "metadata": {},
       "output_type": "pyout",
       "prompt_number": 53,
       "text": [
        "0.90804597701149425"
       ]
      }
     ],
     "prompt_number": 53
    },
    {
     "cell_type": "markdown",
     "metadata": {},
     "source": [
      "<font color='blue'>try with 20 neighbors:</font>"
     ]
    },
    {
     "cell_type": "code",
     "collapsed": false,
     "input": [
      "neigh_ten = KNeighborsClassifier(n_neighbors=10)\n",
      "neigh_ten.fit(X_train, y_train)"
     ],
     "language": "python",
     "metadata": {},
     "outputs": [
      {
       "metadata": {},
       "output_type": "pyout",
       "prompt_number": 64,
       "text": [
        "KNeighborsClassifier(algorithm='auto', leaf_size=30, metric='minkowski',\n",
        "           n_neighbors=10, p=2, weights='uniform')"
       ]
      }
     ],
     "prompt_number": 64
    },
    {
     "cell_type": "code",
     "collapsed": false,
     "input": [
      "y_ten_pred = neigh_ten.predict(X_test)\n",
      "accuracy_score(y_test, y_ten_pred)"
     ],
     "language": "python",
     "metadata": {},
     "outputs": [
      {
       "metadata": {},
       "output_type": "pyout",
       "prompt_number": 65,
       "text": [
        "0.90804597701149425"
       ]
      }
     ],
     "prompt_number": 65
    },
    {
     "cell_type": "markdown",
     "metadata": {},
     "source": [
      "<font color='blue'>try with 20 neighbors:</font>"
     ]
    },
    {
     "cell_type": "code",
     "collapsed": false,
     "input": [
      "neigh_twenty = KNeighborsClassifier(n_neighbors=20)\n",
      "neigh_twenty.fit(X_train, y_train)"
     ],
     "language": "python",
     "metadata": {},
     "outputs": [
      {
       "metadata": {},
       "output_type": "pyout",
       "prompt_number": 66,
       "text": [
        "KNeighborsClassifier(algorithm='auto', leaf_size=30, metric='minkowski',\n",
        "           n_neighbors=20, p=2, weights='uniform')"
       ]
      }
     ],
     "prompt_number": 66
    },
    {
     "cell_type": "code",
     "collapsed": false,
     "input": [
      "y_20_pred = neigh_twenty.predict(X_test)\n",
      "accuracy_score(y_test, y_20_pred)"
     ],
     "language": "python",
     "metadata": {},
     "outputs": [
      {
       "metadata": {},
       "output_type": "pyout",
       "prompt_number": 67,
       "text": [
        "0.89655172413793105"
       ]
      }
     ],
     "prompt_number": 67
    },
    {
     "cell_type": "markdown",
     "metadata": {},
     "source": [
      "<font color='blue'>which k value gives the highest accuracy? k=4</font>"
     ]
    },
    {
     "cell_type": "code",
     "collapsed": false,
     "input": [
      "scores = []\n",
      "for k in range(1,21):\n",
      "    neigh = KNeighborsClassifier(n_neighbors=k)\n",
      "    neigh.fit(X_train, y_train)\n",
      "    y_pred = neigh.predict(X_test)\n",
      "    \n",
      "    scores.append([k, accuracy_score(y_test, y_pred)])\n",
      "\n",
      "accuracy = pd.DataFrame(scores, columns=('k', 'accuracy'))"
     ],
     "language": "python",
     "metadata": {},
     "outputs": [],
     "prompt_number": 69
    },
    {
     "cell_type": "code",
     "collapsed": false,
     "input": [
      "accuracy.sort(columns='accuracy', ascending=False).head()"
     ],
     "language": "python",
     "metadata": {},
     "outputs": [
      {
       "html": [
        "<div style=\"max-height:1000px;max-width:1500px;overflow:auto;\">\n",
        "<table border=\"1\" class=\"dataframe\">\n",
        "  <thead>\n",
        "    <tr style=\"text-align: right;\">\n",
        "      <th></th>\n",
        "      <th>k</th>\n",
        "      <th>accuracy</th>\n",
        "    </tr>\n",
        "  </thead>\n",
        "  <tbody>\n",
        "    <tr>\n",
        "      <th>3 </th>\n",
        "      <td>  4</td>\n",
        "      <td> 0.931034</td>\n",
        "    </tr>\n",
        "    <tr>\n",
        "      <th>2 </th>\n",
        "      <td>  3</td>\n",
        "      <td> 0.925287</td>\n",
        "    </tr>\n",
        "    <tr>\n",
        "      <th>4 </th>\n",
        "      <td>  5</td>\n",
        "      <td> 0.919540</td>\n",
        "    </tr>\n",
        "    <tr>\n",
        "      <th>12</th>\n",
        "      <td> 13</td>\n",
        "      <td> 0.919540</td>\n",
        "    </tr>\n",
        "    <tr>\n",
        "      <th>14</th>\n",
        "      <td> 15</td>\n",
        "      <td> 0.913793</td>\n",
        "    </tr>\n",
        "  </tbody>\n",
        "</table>\n",
        "</div>"
       ],
       "metadata": {},
       "output_type": "pyout",
       "prompt_number": 71,
       "text": [
        "     k  accuracy\n",
        "3    4  0.931034\n",
        "2    3  0.925287\n",
        "4    5  0.919540\n",
        "12  13  0.919540\n",
        "14  15  0.913793"
       ]
      }
     ],
     "prompt_number": 71
    },
    {
     "cell_type": "markdown",
     "metadata": {},
     "source": [
      "#4. Use logistic regression"
     ]
    },
    {
     "cell_type": "code",
     "collapsed": false,
     "input": [
      "from sklearn.linear_model import LogisticRegression"
     ],
     "language": "python",
     "metadata": {},
     "outputs": [
      {
       "output_type": "stream",
       "stream": "stderr",
       "text": [
        "/usr/local/lib/python2.7/site-packages/scipy/interpolate/interpolate.py:28: RuntimeWarning: numpy.dtype size changed, may indicate binary incompatibility\n",
        "  from . import _ppoly\n",
        "/usr/local/lib/python2.7/site-packages/scipy/interpolate/interpolate.py:28: RuntimeWarning: numpy.ufunc size changed, may indicate binary incompatibility\n",
        "  from . import _ppoly\n"
       ]
      }
     ],
     "prompt_number": 72
    },
    {
     "cell_type": "code",
     "collapsed": false,
     "input": [
      "regression = LogisticRegression()\n",
      "regression.fit(X_train, y_train)"
     ],
     "language": "python",
     "metadata": {},
     "outputs": [
      {
       "metadata": {},
       "output_type": "pyout",
       "prompt_number": 74,
       "text": [
        "LogisticRegression(C=1.0, class_weight=None, dual=False, fit_intercept=True,\n",
        "          intercept_scaling=1, penalty='l2', random_state=None, tol=0.0001)"
       ]
      }
     ],
     "prompt_number": 74
    },
    {
     "cell_type": "code",
     "collapsed": false,
     "input": [
      "y_pred = regression.predict(X_test)\n",
      "accuracy_score(y_test, y_pred)"
     ],
     "language": "python",
     "metadata": {},
     "outputs": [
      {
       "metadata": {},
       "output_type": "pyout",
       "prompt_number": 75,
       "text": [
        "0.94827586206896552"
       ]
      }
     ],
     "prompt_number": 75
    },
    {
     "cell_type": "markdown",
     "metadata": {},
     "source": [
      "#5. Make a bar graph"
     ]
    },
    {
     "cell_type": "code",
     "collapsed": false,
     "input": [
      "votes.groupby(['name'])['a'].count().plot(kind='bar')"
     ],
     "language": "python",
     "metadata": {},
     "outputs": [
      {
       "metadata": {},
       "output_type": "pyout",
       "prompt_number": 222,
       "text": [
        "<matplotlib.axes.AxesSubplot at 0x10f6f83d0>"
       ]
      },
      {
       "metadata": {},
       "output_type": "display_data",
       "png": "[encoded data removed]",
       "text": [
        "<matplotlib.figure.Figure at 0x10f917190>"
       ]
      }
     ],
     "prompt_number": 222
    },
    {
     "cell_type": "code",
     "collapsed": false,
     "input": [],
     "language": "python",
     "metadata": {},
     "outputs": [],
     "prompt_number": 222
    },
    {
     "cell_type": "markdown",
     "metadata": {},
     "source": [
      "<font color='blue'>make dummy dem and rep predictors</font>"
     ]
    },
    {
     "cell_type": "code",
     "collapsed": false,
     "input": [
      "def dummy_predictor(x=[], party='republican'):\n",
      "    if type(x) == list:\n",
      "        if party == 'democrat':\n",
      "            return ['democrat'] * len(x)\n",
      "        else:\n",
      "            return ['republican'] * len(x)\n",
      "    else:\n",
      "        return 'need to enter a list'"
     ],
     "language": "python",
     "metadata": {},
     "outputs": [],
     "prompt_number": 79
    },
    {
     "cell_type": "code",
     "collapsed": false,
     "input": [
      "dem_test = np.array(dummy_predictor(y_test.tolist(), 'democrat'))"
     ],
     "language": "python",
     "metadata": {},
     "outputs": [],
     "prompt_number": 81
    },
    {
     "cell_type": "code",
     "collapsed": false,
     "input": [
      "accuracy_score(y_test, dem_test)"
     ],
     "language": "python",
     "metadata": {},
     "outputs": [
      {
       "metadata": {},
       "output_type": "pyout",
       "prompt_number": 83,
       "text": [
        "0.57471264367816088"
       ]
      }
     ],
     "prompt_number": 83
    },
    {
     "cell_type": "code",
     "collapsed": false,
     "input": [
      "rep_test = np.array(dummy_predictor(y_test.tolist()))"
     ],
     "language": "python",
     "metadata": {},
     "outputs": [],
     "prompt_number": 86
    },
    {
     "cell_type": "code",
     "collapsed": false,
     "input": [
      "accuracy_score(y_test, rep_test)"
     ],
     "language": "python",
     "metadata": {},
     "outputs": [
      {
       "metadata": {},
       "output_type": "pyout",
       "prompt_number": 88,
       "text": [
        "0.42528735632183906"
       ]
      }
     ],
     "prompt_number": 88
    },
    {
     "cell_type": "markdown",
     "metadata": {},
     "source": [
      "#6. Plot accuracies"
     ]
    },
    {
     "cell_type": "code",
     "collapsed": false,
     "input": [
      "import matplotlib.pyplot as plt\n",
      "%matplotlib inline"
     ],
     "language": "python",
     "metadata": {},
     "outputs": [],
     "prompt_number": 76
    },
    {
     "cell_type": "code",
     "collapsed": false,
     "input": [
      "X = accuracy.k\n",
      "Y = accuracy.accuracy\n",
      "Y_logistic = X*0 + 0.95402298850574707\n",
      "Y_dem_test = X*0 + 0.57471264367816088\n",
      "Y_rep_test = X*0 + 0.42528735632183906\n",
      "f = plt.figure(figsize=(15,8))\n",
      "plt.plot(X, Y, 'm')\n",
      "plt.plot(X, Y_logistic, 'g')\n",
      "plt.plot(X, Y_dem_test, 'b--')\n",
      "plt.plot(X, Y_rep_test, 'r--')\n",
      "plt.xlabel('K')\n",
      "plt.ylabel('Accuracy')"
     ],
     "language": "python",
     "metadata": {},
     "outputs": [
      {
       "metadata": {},
       "output_type": "pyout",
       "prompt_number": 89,
       "text": [
        "<matplotlib.text.Text at 0x10e642690>"
       ]
      },
      {
       "metadata": {},
       "output_type": "display_data",
       "png": "[encoded data removed]",
       "text": [
        "<matplotlib.figure.Figure at 0x10e4c5790>"
       ]
      }
     ],
     "prompt_number": 89
    },
    {
     "cell_type": "markdown",
     "metadata": {},
     "source": [
      "#7. Plot logistic learning curve"
     ]
    },
    {
     "cell_type": "code",
     "collapsed": false,
     "input": [
      "from sklearn.learning_curve import learning_curve"
     ],
     "language": "python",
     "metadata": {},
     "outputs": [],
     "prompt_number": 90
    },
    {
     "cell_type": "markdown",
     "metadata": {},
     "source": [
      "<font color='blue'>get training and test errors</font>"
     ]
    },
    {
     "cell_type": "code",
     "collapsed": false,
     "input": [
      "X_learn = votes.ix[:,'a':'p']\n",
      "y_learn = votes.ix[:,'name']\n",
      "learningcurve = learning_curve(LogisticRegression(), X_learn, y_learn)"
     ],
     "language": "python",
     "metadata": {},
     "outputs": [],
     "prompt_number": 91
    },
    {
     "cell_type": "code",
     "collapsed": false,
     "input": [
      "learningcurve"
     ],
     "language": "python",
     "metadata": {},
     "outputs": [
      {
       "metadata": {},
       "output_type": "pyout",
       "prompt_number": 92,
       "text": [
        "(array([ 29,  94, 159, 224, 290]),\n",
        " array([[ 1.        ,  0.96551724,  0.96551724],\n",
        "        [ 0.9893617 ,  0.9787234 ,  0.9787234 ],\n",
        "        [ 0.98113208,  0.97484277,  0.97484277],\n",
        "        [ 0.97767857,  0.97321429,  0.96875   ],\n",
        "        [ 0.96896552,  0.96551724,  0.97241379]]),\n",
        " array([[ 0.96551724,  0.92413793,  0.88965517],\n",
        "        [ 0.97241379,  0.92413793,  0.88965517],\n",
        "        [ 0.96551724,  0.94482759,  0.91724138],\n",
        "        [ 0.97241379,  0.95862069,  0.93793103],\n",
        "        [ 0.97931034,  0.95862069,  0.94482759]]))"
       ]
      }
     ],
     "prompt_number": 92
    },
    {
     "cell_type": "markdown",
     "metadata": {},
     "source": [
      "<font color='blue'>get the means of errors for each training size value</font>"
     ]
    },
    {
     "cell_type": "code",
     "collapsed": false,
     "input": [
      "curves = [[29, 94, 159, 224, 290], [], []]\n",
      "for i in range(len(learningcurve)):\n",
      "    if i > 0:\n",
      "        for j in range(len(learningcurve[1])):\n",
      "            curves[i].append(np.mean(learningcurve[i][j]))"
     ],
     "language": "python",
     "metadata": {},
     "outputs": [],
     "prompt_number": 93
    },
    {
     "cell_type": "code",
     "collapsed": false,
     "input": [
      "curves"
     ],
     "language": "python",
     "metadata": {},
     "outputs": [
      {
       "metadata": {},
       "output_type": "pyout",
       "prompt_number": 94,
       "text": [
        "[[29, 94, 159, 224, 290],\n",
        " [0.9770114942528737,\n",
        "  0.98226950354609921,\n",
        "  0.97693920335429763,\n",
        "  0.9732142857142857,\n",
        "  0.96896551724137936],\n",
        " [0.9264367816091954,\n",
        "  0.92873563218390809,\n",
        "  0.94252873563218387,\n",
        "  0.95632183908045976,\n",
        "  0.96091954022988502]]"
       ]
      }
     ],
     "prompt_number": 94
    },
    {
     "cell_type": "code",
     "collapsed": false,
     "input": [
      "regression_errors = pd.DataFrame(curves).transpose()\n",
      "regression_errors.columns = pd.Index([u'train_size', u'train_err', u'test_err'])"
     ],
     "language": "python",
     "metadata": {},
     "outputs": [],
     "prompt_number": 96
    },
    {
     "cell_type": "code",
     "collapsed": false,
     "input": [
      "regression_errors"
     ],
     "language": "python",
     "metadata": {},
     "outputs": [
      {
       "html": [
        "<div style=\"max-height:1000px;max-width:1500px;overflow:auto;\">\n",
        "<table border=\"1\" class=\"dataframe\">\n",
        "  <thead>\n",
        "    <tr style=\"text-align: right;\">\n",
        "      <th></th>\n",
        "      <th>train_size</th>\n",
        "      <th>train_err</th>\n",
        "      <th>test_err</th>\n",
        "    </tr>\n",
        "  </thead>\n",
        "  <tbody>\n",
        "    <tr>\n",
        "      <th>0</th>\n",
        "      <td>  29</td>\n",
        "      <td> 0.977011</td>\n",
        "      <td> 0.926437</td>\n",
        "    </tr>\n",
        "    <tr>\n",
        "      <th>1</th>\n",
        "      <td>  94</td>\n",
        "      <td> 0.982270</td>\n",
        "      <td> 0.928736</td>\n",
        "    </tr>\n",
        "    <tr>\n",
        "      <th>2</th>\n",
        "      <td> 159</td>\n",
        "      <td> 0.976939</td>\n",
        "      <td> 0.942529</td>\n",
        "    </tr>\n",
        "    <tr>\n",
        "      <th>3</th>\n",
        "      <td> 224</td>\n",
        "      <td> 0.973214</td>\n",
        "      <td> 0.956322</td>\n",
        "    </tr>\n",
        "    <tr>\n",
        "      <th>4</th>\n",
        "      <td> 290</td>\n",
        "      <td> 0.968966</td>\n",
        "      <td> 0.960920</td>\n",
        "    </tr>\n",
        "  </tbody>\n",
        "</table>\n",
        "</div>"
       ],
       "metadata": {},
       "output_type": "pyout",
       "prompt_number": 97,
       "text": [
        "   train_size  train_err  test_err\n",
        "0          29   0.977011  0.926437\n",
        "1          94   0.982270  0.928736\n",
        "2         159   0.976939  0.942529\n",
        "3         224   0.973214  0.956322\n",
        "4         290   0.968966  0.960920"
       ]
      }
     ],
     "prompt_number": 97
    },
    {
     "cell_type": "code",
     "collapsed": false,
     "input": [
      "X = regression_errors.train_size\n",
      "y_train = regression_errors.train_err\n",
      "y_test = regression_errors.test_err\n",
      "f = plt.figure(figsize=(15,8))\n",
      "plt.plot(X, y_train, 'm')\n",
      "plt.plot(X, y_test, 'b')\n",
      "plt.xlabel('M')\n",
      "plt.ylabel('Error')"
     ],
     "language": "python",
     "metadata": {},
     "outputs": [
      {
       "metadata": {},
       "output_type": "pyout",
       "prompt_number": 98,
       "text": [
        "<matplotlib.text.Text at 0x10e664c10>"
       ]
      },
      {
       "metadata": {},
       "output_type": "display_data",
       "png": "[encoded data removed]",
       "text": [
        "<matplotlib.figure.Figure at 0x10e4c5b50>"
       ]
      }
     ],
     "prompt_number": 98
    },
    {
     "cell_type": "markdown",
     "metadata": {},
     "source": [
      "<font color='blue'>draw learning curve for KNN </font>"
     ]
    },
    {
     "cell_type": "code",
     "collapsed": false,
     "input": [
      "knn_learningcurve = learning_curve(KNeighborsClassifier(n_neighbors=4), X_learn, y_learn)"
     ],
     "language": "python",
     "metadata": {},
     "outputs": [],
     "prompt_number": 143
    },
    {
     "cell_type": "code",
     "collapsed": false,
     "input": [
      "knn_learningcurve"
     ],
     "language": "python",
     "metadata": {},
     "outputs": [
      {
       "metadata": {},
       "output_type": "pyout",
       "prompt_number": 144,
       "text": [
        "(array([ 29,  94, 159, 224, 290]),\n",
        " array([[ 0.96551724,  1.        ,  1.        ],\n",
        "        [ 0.91489362,  0.9893617 ,  0.9893617 ],\n",
        "        [ 0.93710692,  0.98113208,  0.98113208],\n",
        "        [ 0.94642857,  0.96875   ,  0.96428571],\n",
        "        [ 0.93793103,  0.94482759,  0.96551724]]),\n",
        " array([[ 0.95172414,  0.92413793,  0.91034483],\n",
        "        [ 0.96551724,  0.93793103,  0.91034483],\n",
        "        [ 0.96551724,  0.91724138,  0.91724138],\n",
        "        [ 0.95172414,  0.93793103,  0.92413793],\n",
        "        [ 0.95172414,  0.91724138,  0.91724138]]))"
       ]
      }
     ],
     "prompt_number": 144
    },
    {
     "cell_type": "code",
     "collapsed": false,
     "input": [
      "knn_curves = [[29, 94, 159, 224, 290], [], []]\n",
      "for i in range(len(knn_learningcurve)):\n",
      "    if i > 0:\n",
      "        for j in range(len(knn_learningcurve[1])):\n",
      "            knn_curves[i].append(np.mean(knn_learningcurve[i][j]))"
     ],
     "language": "python",
     "metadata": {},
     "outputs": [],
     "prompt_number": 151
    },
    {
     "cell_type": "code",
     "collapsed": false,
     "input": [
      "knn_errors = pd.DataFrame(knn_curves).transpose()\n",
      "knn_errors.columns = pd.Index([u'train_size', u'train_err', u'test_err'])"
     ],
     "language": "python",
     "metadata": {},
     "outputs": [],
     "prompt_number": 153
    },
    {
     "cell_type": "code",
     "collapsed": false,
     "input": [
      "knn_errors"
     ],
     "language": "python",
     "metadata": {},
     "outputs": [
      {
       "html": [
        "<div style=\"max-height:1000px;max-width:1500px;overflow:auto;\">\n",
        "<table border=\"1\" class=\"dataframe\">\n",
        "  <thead>\n",
        "    <tr style=\"text-align: right;\">\n",
        "      <th></th>\n",
        "      <th>train_size</th>\n",
        "      <th>train_err</th>\n",
        "      <th>test_err</th>\n",
        "    </tr>\n",
        "  </thead>\n",
        "  <tbody>\n",
        "    <tr>\n",
        "      <th>0</th>\n",
        "      <td>  29</td>\n",
        "      <td> 0.988506</td>\n",
        "      <td> 0.928736</td>\n",
        "    </tr>\n",
        "    <tr>\n",
        "      <th>1</th>\n",
        "      <td>  94</td>\n",
        "      <td> 0.964539</td>\n",
        "      <td> 0.937931</td>\n",
        "    </tr>\n",
        "    <tr>\n",
        "      <th>2</th>\n",
        "      <td> 159</td>\n",
        "      <td> 0.966457</td>\n",
        "      <td> 0.933333</td>\n",
        "    </tr>\n",
        "    <tr>\n",
        "      <th>3</th>\n",
        "      <td> 224</td>\n",
        "      <td> 0.959821</td>\n",
        "      <td> 0.937931</td>\n",
        "    </tr>\n",
        "    <tr>\n",
        "      <th>4</th>\n",
        "      <td> 290</td>\n",
        "      <td> 0.949425</td>\n",
        "      <td> 0.928736</td>\n",
        "    </tr>\n",
        "  </tbody>\n",
        "</table>\n",
        "</div>"
       ],
       "metadata": {},
       "output_type": "pyout",
       "prompt_number": 154,
       "text": [
        "   train_size  train_err  test_err\n",
        "0          29   0.988506  0.928736\n",
        "1          94   0.964539  0.937931\n",
        "2         159   0.966457  0.933333\n",
        "3         224   0.959821  0.937931\n",
        "4         290   0.949425  0.928736"
       ]
      }
     ],
     "prompt_number": 154
    },
    {
     "cell_type": "code",
     "collapsed": false,
     "input": [
      "X = knn_errors.train_size\n",
      "y_train = knn_errors.train_err\n",
      "y_test = knn_errors.test_err\n",
      "f = plt.figure(figsize=(15,8))\n",
      "plt.plot(X, y_train, 'm')\n",
      "plt.plot(X, y_test, 'b')\n",
      "plt.xlabel('M')\n",
      "plt.ylabel('Error')"
     ],
     "language": "python",
     "metadata": {},
     "outputs": [
      {
       "metadata": {},
       "output_type": "pyout",
       "prompt_number": 155,
       "text": [
        "<matplotlib.text.Text at 0x10f10fa50>"
       ]
      },
      {
       "metadata": {},
       "output_type": "display_data",
       "png": "[encoded data removed]",
       "text": [
        "<matplotlib.figure.Figure at 0x10ee2bb50>"
       ]
      }
     ],
     "prompt_number": 155
    },
    {
     "cell_type": "markdown",
     "metadata": {},
     "source": [
      "#8. Other supervised learning algos"
     ]
    },
    {
     "cell_type": "markdown",
     "metadata": {},
     "source": [
      "<font color='blue'>Gaussian Naive Bayes</font>"
     ]
    },
    {
     "cell_type": "code",
     "collapsed": false,
     "input": [
      "from sklearn.naive_bayes import GaussianNB"
     ],
     "language": "python",
     "metadata": {},
     "outputs": [],
     "prompt_number": 126
    },
    {
     "cell_type": "code",
     "collapsed": false,
     "input": [
      "XG_train, XG_test, yg_train, yg_test = cross_validation.train_test_split(votes.ix[:,'a':'p'], votes.ix[:,'name'], test_size=0.4, random_state=0)"
     ],
     "language": "python",
     "metadata": {},
     "outputs": [],
     "prompt_number": 127
    },
    {
     "cell_type": "code",
     "collapsed": false,
     "input": [
      "gauss = GaussianNB()\n",
      "gauss.fit(XG_train, yg_train)"
     ],
     "language": "python",
     "metadata": {},
     "outputs": [
      {
       "metadata": {},
       "output_type": "pyout",
       "prompt_number": 129,
       "text": [
        "GaussianNB()"
       ]
      }
     ],
     "prompt_number": 129
    },
    {
     "cell_type": "code",
     "collapsed": false,
     "input": [
      "y_pred = gauss.predict(XG_test)\n",
      "accuracy_score(yg_test, y_pred)"
     ],
     "language": "python",
     "metadata": {},
     "outputs": [
      {
       "metadata": {},
       "output_type": "pyout",
       "prompt_number": 130,
       "text": [
        "0.9022988505747126"
       ]
      }
     ],
     "prompt_number": 130
    },
    {
     "cell_type": "markdown",
     "metadata": {},
     "source": [
      "<font color='blue'>Support Vector Machine</font>"
     ]
    },
    {
     "cell_type": "code",
     "collapsed": false,
     "input": [
      "from sklearn.svm import SVC"
     ],
     "language": "python",
     "metadata": {},
     "outputs": [],
     "prompt_number": 223
    },
    {
     "cell_type": "code",
     "collapsed": false,
     "input": [
      "supervec = SVC()\n",
      "supervec.fit(XG_train, yg_train)"
     ],
     "language": "python",
     "metadata": {},
     "outputs": [
      {
       "metadata": {},
       "output_type": "pyout",
       "prompt_number": 225,
       "text": [
        "SVC(C=1.0, cache_size=200, class_weight=None, coef0=0.0, degree=3, gamma=0.0,\n",
        "  kernel='rbf', max_iter=-1, probability=False, random_state=None,\n",
        "  shrinking=True, tol=0.001, verbose=False)"
       ]
      }
     ],
     "prompt_number": 225
    },
    {
     "cell_type": "code",
     "collapsed": false,
     "input": [
      "y_pred = supervec.predict(XG_test)\n",
      "accuracy_score(yg_test, y_pred)"
     ],
     "language": "python",
     "metadata": {},
     "outputs": [
      {
       "metadata": {},
       "output_type": "pyout",
       "prompt_number": 227,
       "text": [
        "0.94252873563218387"
       ]
      }
     ],
     "prompt_number": 227
    },
    {
     "cell_type": "markdown",
     "metadata": {},
     "source": [
      "<font color='blue'>Decision Tree</font>"
     ]
    },
    {
     "cell_type": "code",
     "collapsed": false,
     "input": [
      "from sklearn.tree import DecisionTreeClassifier"
     ],
     "language": "python",
     "metadata": {},
     "outputs": [],
     "prompt_number": 232
    },
    {
     "cell_type": "code",
     "collapsed": false,
     "input": [
      "tree = DecisionTreeClassifier()\n",
      "tree.fit(XG_train, yg_train)"
     ],
     "language": "python",
     "metadata": {},
     "outputs": [
      {
       "metadata": {},
       "output_type": "pyout",
       "prompt_number": 235,
       "text": [
        "DecisionTreeClassifier(compute_importances=None, criterion='gini',\n",
        "            max_depth=None, max_features=None, max_leaf_nodes=None,\n",
        "            min_density=None, min_samples_leaf=1, min_samples_split=2,\n",
        "            random_state=None, splitter='best')"
       ]
      }
     ],
     "prompt_number": 235
    },
    {
     "cell_type": "code",
     "collapsed": false,
     "input": [
      "y_pred = tree.predict(XG_test)\n",
      "accuracy_score(yg_test, y_pred)"
     ],
     "language": "python",
     "metadata": {},
     "outputs": [
      {
       "metadata": {},
       "output_type": "pyout",
       "prompt_number": 236,
       "text": [
        "0.94827586206896552"
       ]
      }
     ],
     "prompt_number": 236
    },
    {
     "cell_type": "markdown",
     "metadata": {},
     "source": [
      "<font color='blue'>Random Forests</font>"
     ]
    },
    {
     "cell_type": "code",
     "collapsed": false,
     "input": [
      "from sklearn.ensemble import RandomForestClassifier"
     ],
     "language": "python",
     "metadata": {},
     "outputs": [],
     "prompt_number": 239
    },
    {
     "cell_type": "code",
     "collapsed": false,
     "input": [
      "forest = RandomForestClassifier()\n",
      "forest.fit(XG_train, yg_train)"
     ],
     "language": "python",
     "metadata": {},
     "outputs": [
      {
       "metadata": {},
       "output_type": "pyout",
       "prompt_number": 241,
       "text": [
        "RandomForestClassifier(bootstrap=True, compute_importances=None,\n",
        "            criterion='gini', max_depth=None, max_features='auto',\n",
        "            max_leaf_nodes=None, min_density=None, min_samples_leaf=1,\n",
        "            min_samples_split=2, n_estimators=10, n_jobs=1,\n",
        "            oob_score=False, random_state=None, verbose=0)"
       ]
      }
     ],
     "prompt_number": 241
    },
    {
     "cell_type": "code",
     "collapsed": false,
     "input": [
      "y_pred = forest.predict(XG_test)\n",
      "accuracy_score(yg_test, y_pred)"
     ],
     "language": "python",
     "metadata": {},
     "outputs": [
      {
       "metadata": {},
       "output_type": "pyout",
       "prompt_number": 242,
       "text": [
        "0.97126436781609193"
       ]
      }
     ],
     "prompt_number": 242
    },
    {
     "cell_type": "markdown",
     "metadata": {},
     "source": [
      "#9. Cross Validation"
     ]
    },
    {
     "cell_type": "code",
     "collapsed": false,
     "input": [
      "from sklearn.cross_validation import cross_val_score"
     ],
     "language": "python",
     "metadata": {},
     "outputs": [],
     "prompt_number": 125
    },
    {
     "cell_type": "code",
     "collapsed": false,
     "input": [
      "X_cross = votes.ix[:,'a':'p']\n",
      "y_cross = votes.ix[:,'name']"
     ],
     "language": "python",
     "metadata": {},
     "outputs": [],
     "prompt_number": 133
    },
    {
     "cell_type": "markdown",
     "metadata": {},
     "source": [
      "<font color='blue'>Gaussian Naive Bayes</font>"
     ]
    },
    {
     "cell_type": "code",
     "collapsed": false,
     "input": [
      "GNB_scores = cross_validation.cross_val_score(GaussianNB(), X_cross, y_cross, cv=5)"
     ],
     "language": "python",
     "metadata": {},
     "outputs": [],
     "prompt_number": 139
    },
    {
     "cell_type": "code",
     "collapsed": false,
     "input": [
      "print GNB_scores\n",
      "print np.mean(GNB_scores)"
     ],
     "language": "python",
     "metadata": {},
     "outputs": [
      {
       "output_type": "stream",
       "stream": "stdout",
       "text": [
        "[ 0.94318182  0.89772727  0.94252874  0.95348837  0.86046512]\n",
        "0.919478262983\n"
       ]
      }
     ],
     "prompt_number": 141
    },
    {
     "cell_type": "markdown",
     "metadata": {},
     "source": [
      "<font color='blue'>Support Vector Machine</font>"
     ]
    },
    {
     "cell_type": "code",
     "collapsed": false,
     "input": [
      "SV_scores = cross_validation.cross_val_score(SVC(), X_cross, y_cross, cv=5)"
     ],
     "language": "python",
     "metadata": {},
     "outputs": [],
     "prompt_number": 229
    },
    {
     "cell_type": "code",
     "collapsed": false,
     "input": [
      "print SV_scores\n",
      "print np.mean(SV_scores)"
     ],
     "language": "python",
     "metadata": {},
     "outputs": [
      {
       "output_type": "stream",
       "stream": "stdout",
       "text": [
        "[ 0.96590909  0.96590909  0.95402299  0.98837209  0.90697674]\n",
        "0.956238001507\n"
       ]
      }
     ],
     "prompt_number": 231
    },
    {
     "cell_type": "markdown",
     "metadata": {},
     "source": [
      "<font color='blue'>Decision Tree</font>"
     ]
    },
    {
     "cell_type": "code",
     "collapsed": false,
     "input": [
      "DT_scores = cross_validation.cross_val_score(tree, X_cross, y_cross, cv=5)"
     ],
     "language": "python",
     "metadata": {},
     "outputs": [],
     "prompt_number": 237
    },
    {
     "cell_type": "code",
     "collapsed": false,
     "input": [
      "print DT_scores\n",
      "print np.mean(DT_scores)"
     ],
     "language": "python",
     "metadata": {},
     "outputs": [
      {
       "output_type": "stream",
       "stream": "stdout",
       "text": [
        "[ 0.96590909  0.94318182  0.95402299  0.93023256  0.94186047]\n",
        "0.94704138417\n"
       ]
      }
     ],
     "prompt_number": 238
    },
    {
     "cell_type": "markdown",
     "metadata": {},
     "source": [
      "<font color='blue'>Random Forest</font>"
     ]
    },
    {
     "cell_type": "code",
     "collapsed": false,
     "input": [
      "RF_scores = cross_validation.cross_val_score(forest, X_cross, y_cross, cv=5)"
     ],
     "language": "python",
     "metadata": {},
     "outputs": [],
     "prompt_number": 243
    },
    {
     "cell_type": "code",
     "collapsed": false,
     "input": [
      "np.mean(RF_scores)"
     ],
     "language": "python",
     "metadata": {},
     "outputs": [
      {
       "metadata": {},
       "output_type": "pyout",
       "prompt_number": 244,
       "text": [
        "0.95845787465675192"
       ]
      }
     ],
     "prompt_number": 244
    },
    {
     "cell_type": "markdown",
     "metadata": {},
     "source": [
      "#10. Predict Vote"
     ]
    },
    {
     "cell_type": "markdown",
     "metadata": {},
     "source": [
      "<font color='blue'>reload data</font>\n",
      "<font color='blue'>**I just dropped the names from my votes df</font>"
     ]
    },
    {
     "cell_type": "code",
     "collapsed": false,
     "input": [
      "new_data = votes.drop('name', axis = 1)"
     ],
     "language": "python",
     "metadata": {},
     "outputs": [],
     "prompt_number": 100
    },
    {
     "cell_type": "code",
     "collapsed": false,
     "input": [
      "new_data['a'].dtypes"
     ],
     "language": "python",
     "metadata": {},
     "outputs": [
      {
       "metadata": {},
       "output_type": "pyout",
       "prompt_number": 121,
       "text": [
        "dtype('O')"
       ]
      }
     ],
     "prompt_number": 121
    },
    {
     "cell_type": "markdown",
     "metadata": {},
     "source": [
      "<font color='blue'>use cross validation for logistic regression</font>"
     ]
    },
    {
     "cell_type": "code",
     "collapsed": false,
     "input": [
      "X_cross = new_data.ix[:,'b':'p']\n",
      "y_cross = new_data.ix[:,'a']"
     ],
     "language": "python",
     "metadata": {},
     "outputs": [],
     "prompt_number": 107
    },
    {
     "cell_type": "code",
     "collapsed": false,
     "input": [],
     "language": "python",
     "metadata": {},
     "outputs": [],
     "prompt_number": 122
    },
    {
     "cell_type": "code",
     "collapsed": false,
     "input": [
      "logistic_scores = cross_validation.cross_val_score(LogisticRegression(), X_cross, y_cross.astype(np.float64), cv=5)"
     ],
     "language": "python",
     "metadata": {},
     "outputs": [],
     "prompt_number": 117
    },
    {
     "cell_type": "code",
     "collapsed": false,
     "input": [
      "logistic_scores"
     ],
     "language": "python",
     "metadata": {},
     "outputs": [
      {
       "metadata": {},
       "output_type": "pyout",
       "prompt_number": 122,
       "text": [
        "array([ 0.81818182,  0.53409091,  0.68965517,  0.62790698,  0.6627907 ])"
       ]
      }
     ],
     "prompt_number": 122
    },
    {
     "cell_type": "markdown",
     "metadata": {},
     "source": [
      "<font color='blue'>cross validation accuracy of logistic regression classifier</font>"
     ]
    },
    {
     "cell_type": "code",
     "collapsed": false,
     "input": [
      "np.mean(logistic_scores)"
     ],
     "language": "python",
     "metadata": {},
     "outputs": [
      {
       "metadata": {},
       "output_type": "pyout",
       "prompt_number": 123,
       "text": [
        "0.66652511482102494"
       ]
      }
     ],
     "prompt_number": 123
    },
    {
     "cell_type": "markdown",
     "metadata": {},
     "source": [
      "#11.Movie Data"
     ]
    },
    {
     "cell_type": "code",
     "collapsed": false,
     "input": [
      "import pickle\n",
      "with open('binary.pck', 'r') as picklefile:\n",
      "    movie_data = pickle.load(picklefile)\n"
     ],
     "language": "python",
     "metadata": {},
     "outputs": [],
     "prompt_number": 310
    },
    {
     "cell_type": "code",
     "collapsed": false,
     "input": [
      "movie_data.head(2)"
     ],
     "language": "python",
     "metadata": {},
     "outputs": [
      {
       "html": [
        "<div style=\"max-height:1000px;max-width:1500px;overflow:auto;\">\n",
        "<table border=\"1\" class=\"dataframe\">\n",
        "  <thead>\n",
        "    <tr style=\"text-align: right;\">\n",
        "      <th></th>\n",
        "      <th>title</th>\n",
        "      <th>domesticgross</th>\n",
        "      <th>foreigngross</th>\n",
        "      <th>distributor</th>\n",
        "      <th>domesticrelease</th>\n",
        "      <th>budget</th>\n",
        "      <th>genres</th>\n",
        "      <th>countrybreakdown</th>\n",
        "      <th>countrydict</th>\n",
        "      <th>Ones</th>\n",
        "      <th>Animation</th>\n",
        "      <th>cgi_animated</th>\n",
        "    </tr>\n",
        "  </thead>\n",
        "  <tbody>\n",
        "    <tr>\n",
        "      <th>0</th>\n",
        "      <td>                              Avatar </td>\n",
        "      <td> 749766139</td>\n",
        "      <td> 2027457462</td>\n",
        "      <td>                    Fox</td>\n",
        "      <td> 2009-12-18 00:00:00</td>\n",
        "      <td> 425000000</td>\n",
        "      <td> ['3D', 'CGI Star', 'Disability - Paraplegic / ...</td>\n",
        "      <td> {'Brazil': ['Fox', datetime.datetime(2009, 12,...</td>\n",
        "      <td> {u'Brazil': [u'Fox', 2009-12-18 00:00:00, 5821...</td>\n",
        "      <td> 1</td>\n",
        "      <td> 1</td>\n",
        "      <td> 1</td>\n",
        "    </tr>\n",
        "    <tr>\n",
        "      <th>1</th>\n",
        "      <td> Transformers: Revenge of the Fallen </td>\n",
        "      <td> 402111870</td>\n",
        "      <td>  434191823</td>\n",
        "      <td> Paramount (DreamWorks)</td>\n",
        "      <td> 2009-06-24 00:00:00</td>\n",
        "      <td> 200000000</td>\n",
        "      <td> ['CGI Star', 'Cyborg / Android / Robot', 'IMAX...</td>\n",
        "      <td> {'Brazil': ['PPI', datetime.datetime(2009, 6, ...</td>\n",
        "      <td> {u'Brazil': [u'PPI', 2009-06-24 00:00:00, 9560...</td>\n",
        "      <td> 1</td>\n",
        "      <td> 0</td>\n",
        "      <td> 1</td>\n",
        "    </tr>\n",
        "  </tbody>\n",
        "</table>\n",
        "</div>"
       ],
       "metadata": {},
       "output_type": "pyout",
       "prompt_number": 311,
       "text": [
        "                                  title  domesticgross  foreigngross  \\\n",
        "0                               Avatar       749766139    2027457462   \n",
        "1  Transformers: Revenge of the Fallen       402111870     434191823   \n",
        "\n",
        "              distributor      domesticrelease     budget  \\\n",
        "0                     Fox  2009-12-18 00:00:00  425000000   \n",
        "1  Paramount (DreamWorks)  2009-06-24 00:00:00  200000000   \n",
        "\n",
        "                                              genres  \\\n",
        "0  ['3D', 'CGI Star', 'Disability - Paraplegic / ...   \n",
        "1  ['CGI Star', 'Cyborg / Android / Robot', 'IMAX...   \n",
        "\n",
        "                                    countrybreakdown  \\\n",
        "0  {'Brazil': ['Fox', datetime.datetime(2009, 12,...   \n",
        "1  {'Brazil': ['PPI', datetime.datetime(2009, 6, ...   \n",
        "\n",
        "                                         countrydict  Ones  Animation  \\\n",
        "0  {u'Brazil': [u'Fox', 2009-12-18 00:00:00, 5821...     1          1   \n",
        "1  {u'Brazil': [u'PPI', 2009-06-24 00:00:00, 9560...     1          0   \n",
        "\n",
        "   cgi_animated  \n",
        "0             1  \n",
        "1             1  "
       ]
      }
     ],
     "prompt_number": 311
    },
    {
     "cell_type": "code",
     "collapsed": false,
     "input": [
      "movie_data[['cgi_animated']].hist(figsize=(5, 5))"
     ],
     "language": "python",
     "metadata": {},
     "outputs": [
      {
       "metadata": {},
       "output_type": "pyout",
       "prompt_number": 304,
       "text": [
        "array([[<matplotlib.axes.AxesSubplot object at 0x113c59710>]], dtype=object)"
       ]
      },
      {
       "metadata": {},
       "output_type": "display_data",
       "png": "[encoded data removed]",
       "text": [
        "<matplotlib.figure.Figure at 0x113650b90>"
       ]
      }
     ],
     "prompt_number": 304
    },
    {
     "cell_type": "markdown",
     "metadata": {},
     "source": [
      "<font color='blue'>^^a stupid looking bar chart of non-cgi animated [0] to cgi-animated [1] movies</font><br><br>\n",
      "<font color='blue'>KNN:</font>"
     ]
    },
    {
     "cell_type": "code",
     "collapsed": false,
     "input": [
      "Xmov_train, Xmov_test, ymov_train, ymov_test = cross_validation.train_test_split(movie_data[['domesticgross', 'budget']], movie_data['cgi_animated'], test_size=0.4, random_state=0)"
     ],
     "language": "python",
     "metadata": {},
     "outputs": [],
     "prompt_number": 320
    },
    {
     "cell_type": "code",
     "collapsed": false,
     "input": [],
     "language": "python",
     "metadata": {},
     "outputs": [],
     "prompt_number": 332
    },
    {
     "cell_type": "code",
     "collapsed": false,
     "input": [
      "movie_scores = []\n",
      "for k in range(1,21):\n",
      "    neigh = KNeighborsClassifier(n_neighbors=k)\n",
      "    neigh.fit(Xmov_train, ymov_train)\n",
      "    y_pred = neigh.predict(Xmov_test)\n",
      "    \n",
      "    movie_scores.append([k, accuracy_score(ymov_test, y_pred)])\n",
      "\n",
      "movie_accuracy = pd.DataFrame(movie_scores, columns=('k', 'accuracy'))"
     ],
     "language": "python",
     "metadata": {},
     "outputs": [],
     "prompt_number": 326
    },
    {
     "cell_type": "code",
     "collapsed": false,
     "input": [
      "movie_accuracy.sort(columns='accuracy', ascending=False).head()"
     ],
     "language": "python",
     "metadata": {},
     "outputs": [
      {
       "html": [
        "<div style=\"max-height:1000px;max-width:1500px;overflow:auto;\">\n",
        "<table border=\"1\" class=\"dataframe\">\n",
        "  <thead>\n",
        "    <tr style=\"text-align: right;\">\n",
        "      <th></th>\n",
        "      <th>k</th>\n",
        "      <th>accuracy</th>\n",
        "    </tr>\n",
        "  </thead>\n",
        "  <tbody>\n",
        "    <tr>\n",
        "      <th>10</th>\n",
        "      <td> 11</td>\n",
        "      <td> 0.83871</td>\n",
        "    </tr>\n",
        "    <tr>\n",
        "      <th>1 </th>\n",
        "      <td>  2</td>\n",
        "      <td> 0.83871</td>\n",
        "    </tr>\n",
        "    <tr>\n",
        "      <th>18</th>\n",
        "      <td> 19</td>\n",
        "      <td> 0.83871</td>\n",
        "    </tr>\n",
        "    <tr>\n",
        "      <th>17</th>\n",
        "      <td> 18</td>\n",
        "      <td> 0.83871</td>\n",
        "    </tr>\n",
        "    <tr>\n",
        "      <th>16</th>\n",
        "      <td> 17</td>\n",
        "      <td> 0.83871</td>\n",
        "    </tr>\n",
        "  </tbody>\n",
        "</table>\n",
        "</div>"
       ],
       "metadata": {},
       "output_type": "pyout",
       "prompt_number": 328,
       "text": [
        "     k  accuracy\n",
        "10  11   0.83871\n",
        "1    2   0.83871\n",
        "18  19   0.83871\n",
        "17  18   0.83871\n",
        "16  17   0.83871"
       ]
      }
     ],
     "prompt_number": 328
    },
    {
     "cell_type": "markdown",
     "metadata": {},
     "source": [
      "<font color='blue'>Logistic Regression:</font>"
     ]
    },
    {
     "cell_type": "code",
     "collapsed": false,
     "input": [
      "movie_regression = LogisticRegression()\n",
      "movie_regression.fit(Xmov_train, ymov_train)"
     ],
     "language": "python",
     "metadata": {},
     "outputs": [
      {
       "metadata": {},
       "output_type": "pyout",
       "prompt_number": 329,
       "text": [
        "LogisticRegression(C=1.0, class_weight=None, dual=False, fit_intercept=True,\n",
        "          intercept_scaling=1, penalty='l2', random_state=None, tol=0.0001)"
       ]
      }
     ],
     "prompt_number": 329
    },
    {
     "cell_type": "code",
     "collapsed": false,
     "input": [
      "ymovie_pred = movie_regression.predict(Xmov_test)\n",
      "accuracy_score(ymov_test, ymovie_pred)"
     ],
     "language": "python",
     "metadata": {},
     "outputs": [
      {
       "metadata": {},
       "output_type": "pyout",
       "prompt_number": 330,
       "text": [
        "0.83870967741935487"
       ]
      }
     ],
     "prompt_number": 330
    },
    {
     "cell_type": "markdown",
     "metadata": {},
     "source": [
      "<font color='blue'>Dummy predictor:</font>"
     ]
    },
    {
     "cell_type": "code",
     "collapsed": false,
     "input": [
      "def dummy_movie_predictor(x=[]):\n",
      "    if type(x) == list:\n",
      "        return [0.] * len(x)\n",
      "    else:\n",
      "        return 'need to enter a list'"
     ],
     "language": "python",
     "metadata": {},
     "outputs": [],
     "prompt_number": 333
    },
    {
     "cell_type": "code",
     "collapsed": false,
     "input": [
      "dummy_test = np.array(dummy_movie_predictor(ymov_test.tolist()))"
     ],
     "language": "python",
     "metadata": {},
     "outputs": [],
     "prompt_number": 334
    },
    {
     "cell_type": "code",
     "collapsed": false,
     "input": [
      "accuracy_score(ymov_test, dummy_test)"
     ],
     "language": "python",
     "metadata": {},
     "outputs": [
      {
       "metadata": {},
       "output_type": "pyout",
       "prompt_number": 335,
       "text": [
        "0.83870967741935487"
       ]
      }
     ],
     "prompt_number": 335
    },
    {
     "cell_type": "markdown",
     "metadata": {},
     "source": [
      "<font color='blue'>KNN does slightly better than logistic regression which does about the same as the dummy</font>"
     ]
    },
    {
     "cell_type": "code",
     "collapsed": false,
     "input": [],
     "language": "python",
     "metadata": {},
     "outputs": []
    },
    {
     "cell_type": "markdown",
     "metadata": {},
     "source": [
      "#12.Surgery Data"
     ]
    },
    {
     "cell_type": "markdown",
     "metadata": {},
     "source": [
      "1. Age of patient at time of operation (numerical) \n",
      "2. Patient's year of operation (year - 1900, numerical) \n",
      "3. Number of positive axillary nodes detected (numerical) \n",
      "4. Survival status (class attribute) \n",
      "-- 1 = the patient survived 5 years or longer \n",
      "-- 2 = the patient died within 5 year\n",
      "\n"
     ]
    },
    {
     "cell_type": "code",
     "collapsed": false,
     "input": [
      "surgery_data = !cat haberman.data.txt"
     ],
     "language": "python",
     "metadata": {},
     "outputs": [],
     "prompt_number": 157
    },
    {
     "cell_type": "code",
     "collapsed": false,
     "input": [
      "surgery_data = [elem.split(',') for elem in surgery_data]"
     ],
     "language": "python",
     "metadata": {},
     "outputs": [],
     "prompt_number": 172
    },
    {
     "cell_type": "code",
     "collapsed": false,
     "input": [
      "surgery = pd.DataFrame(surgery_data, columns=['age', 'op_year', 'nodes', 'survival'])"
     ],
     "language": "python",
     "metadata": {},
     "outputs": [],
     "prompt_number": 175
    },
    {
     "cell_type": "markdown",
     "metadata": {},
     "source": [
      "<font color='blue'>avg and standard deviation of all patients' ages</font>"
     ]
    },
    {
     "cell_type": "code",
     "collapsed": false,
     "input": [
      "surgery.describe()"
     ],
     "language": "python",
     "metadata": {},
     "outputs": [
      {
       "html": [
        "<div style=\"max-height:1000px;max-width:1500px;overflow:auto;\">\n",
        "<table border=\"1\" class=\"dataframe\">\n",
        "  <thead>\n",
        "    <tr style=\"text-align: right;\">\n",
        "      <th></th>\n",
        "      <th>age</th>\n",
        "      <th>op_year</th>\n",
        "      <th>nodes</th>\n",
        "      <th>survival</th>\n",
        "    </tr>\n",
        "  </thead>\n",
        "  <tbody>\n",
        "    <tr>\n",
        "      <th>count</th>\n",
        "      <td> 306</td>\n",
        "      <td> 306</td>\n",
        "      <td> 306</td>\n",
        "      <td> 306</td>\n",
        "    </tr>\n",
        "    <tr>\n",
        "      <th>unique</th>\n",
        "      <td>  49</td>\n",
        "      <td>  12</td>\n",
        "      <td>  31</td>\n",
        "      <td>   2</td>\n",
        "    </tr>\n",
        "    <tr>\n",
        "      <th>top</th>\n",
        "      <td>  52</td>\n",
        "      <td>  58</td>\n",
        "      <td>   0</td>\n",
        "      <td>   1</td>\n",
        "    </tr>\n",
        "    <tr>\n",
        "      <th>freq</th>\n",
        "      <td>  14</td>\n",
        "      <td>  36</td>\n",
        "      <td> 136</td>\n",
        "      <td> 225</td>\n",
        "    </tr>\n",
        "  </tbody>\n",
        "</table>\n",
        "</div>"
       ],
       "metadata": {},
       "output_type": "pyout",
       "prompt_number": 178,
       "text": [
        "        age op_year nodes survival\n",
        "count   306     306   306      306\n",
        "unique   49      12    31        2\n",
        "top      52      58     0        1\n",
        "freq     14      36   136      225"
       ]
      }
     ],
     "prompt_number": 178
    },
    {
     "cell_type": "code",
     "collapsed": false,
     "input": [
      "surgery[['age', 'op_year', 'nodes', 'survival']] = surgery[['age', 'op_year', 'nodes', 'survival']].astype(float)"
     ],
     "language": "python",
     "metadata": {},
     "outputs": [],
     "prompt_number": 187
    },
    {
     "cell_type": "code",
     "collapsed": false,
     "input": [
      "print np.mean(surgery.age)\n",
      "print np.std(surgery.age)"
     ],
     "language": "python",
     "metadata": {},
     "outputs": [
      {
       "output_type": "stream",
       "stream": "stdout",
       "text": [
        "52.4575163399\n",
        "10.7857852036\n"
       ]
      }
     ],
     "prompt_number": 190
    },
    {
     "cell_type": "markdown",
     "metadata": {},
     "source": [
      "<font color='blue'>avg and standard deviation of all patients' ages who survived fewer than five years</font>"
     ]
    },
    {
     "cell_type": "code",
     "collapsed": false,
     "input": [
      "print np.mean(surgery[ (surgery.survival) == 2].age)\n",
      "print np.std(surgery[ (surgery.survival) == 2].age)"
     ],
     "language": "python",
     "metadata": {},
     "outputs": [
      {
       "output_type": "stream",
       "stream": "stdout",
       "text": [
        "53.6790123457\n",
        "10.104182193\n"
       ]
      }
     ],
     "prompt_number": 196
    },
    {
     "cell_type": "markdown",
     "metadata": {},
     "source": [
      "<font color='blue'>avg and standard deviation of all patients' ages who survived more than five years</font>"
     ]
    },
    {
     "cell_type": "code",
     "collapsed": false,
     "input": [
      "print np.mean(surgery[ (surgery.survival) == 1].age)\n",
      "print np.std(surgery[ (surgery.survival) == 1].age)"
     ],
     "language": "python",
     "metadata": {},
     "outputs": [
      {
       "output_type": "stream",
       "stream": "stdout",
       "text": [
        "52.0177777778\n",
        "10.9876554751\n"
       ]
      }
     ],
     "prompt_number": 198
    },
    {
     "cell_type": "markdown",
     "metadata": {},
     "source": [
      "<font color='blue'>histograms</font>"
     ]
    },
    {
     "cell_type": "code",
     "collapsed": false,
     "input": [
      "surgery[['age', 'nodes']].hist(figsize=(20, 8))"
     ],
     "language": "python",
     "metadata": {},
     "outputs": [
      {
       "metadata": {},
       "output_type": "pyout",
       "prompt_number": 274,
       "text": [
        "array([[<matplotlib.axes.AxesSubplot object at 0x112b39410>,\n",
        "        <matplotlib.axes.AxesSubplot object at 0x113863e90>]], dtype=object)"
       ]
      },
      {
       "metadata": {},
       "output_type": "display_data",
       "png": "[encoded data removed]",
       "text": [
        "<matplotlib.figure.Figure at 0x11355c1d0>"
       ]
      }
     ],
     "prompt_number": 274
    },
    {
     "cell_type": "markdown",
     "metadata": {},
     "source": [
      "<font color='blue'>earliest year = 1958 and most recent year = 1969</font>"
     ]
    },
    {
     "cell_type": "code",
     "collapsed": false,
     "input": [
      "surgery.sort( columns=['op_year'], ascending = True).head()"
     ],
     "language": "python",
     "metadata": {},
     "outputs": [
      {
       "html": [
        "<div style=\"max-height:1000px;max-width:1500px;overflow:auto;\">\n",
        "<table border=\"1\" class=\"dataframe\">\n",
        "  <thead>\n",
        "    <tr style=\"text-align: right;\">\n",
        "      <th></th>\n",
        "      <th>age</th>\n",
        "      <th>op_year</th>\n",
        "      <th>nodes</th>\n",
        "      <th>survival</th>\n",
        "    </tr>\n",
        "  </thead>\n",
        "  <tbody>\n",
        "    <tr>\n",
        "      <th>305</th>\n",
        "      <td> 83</td>\n",
        "      <td> 58</td>\n",
        "      <td> 2</td>\n",
        "      <td> 2</td>\n",
        "    </tr>\n",
        "    <tr>\n",
        "      <th>258</th>\n",
        "      <td> 65</td>\n",
        "      <td> 58</td>\n",
        "      <td> 0</td>\n",
        "      <td> 2</td>\n",
        "    </tr>\n",
        "    <tr>\n",
        "      <th>253</th>\n",
        "      <td> 64</td>\n",
        "      <td> 58</td>\n",
        "      <td> 0</td>\n",
        "      <td> 1</td>\n",
        "    </tr>\n",
        "    <tr>\n",
        "      <th>37 </th>\n",
        "      <td> 39</td>\n",
        "      <td> 58</td>\n",
        "      <td> 0</td>\n",
        "      <td> 1</td>\n",
        "    </tr>\n",
        "    <tr>\n",
        "      <th>40 </th>\n",
        "      <td> 40</td>\n",
        "      <td> 58</td>\n",
        "      <td> 2</td>\n",
        "      <td> 1</td>\n",
        "    </tr>\n",
        "  </tbody>\n",
        "</table>\n",
        "</div>"
       ],
       "metadata": {},
       "output_type": "pyout",
       "prompt_number": 202,
       "text": [
        "     age  op_year  nodes  survival\n",
        "305   83       58      2         2\n",
        "258   65       58      0         2\n",
        "253   64       58      0         1\n",
        "37    39       58      0         1\n",
        "40    40       58      2         1"
       ]
      }
     ],
     "prompt_number": 202
    },
    {
     "cell_type": "code",
     "collapsed": false,
     "input": [
      "surgery.head()"
     ],
     "language": "python",
     "metadata": {},
     "outputs": [
      {
       "html": [
        "<div style=\"max-height:1000px;max-width:1500px;overflow:auto;\">\n",
        "<table border=\"1\" class=\"dataframe\">\n",
        "  <thead>\n",
        "    <tr style=\"text-align: right;\">\n",
        "      <th></th>\n",
        "      <th>age</th>\n",
        "      <th>op_year</th>\n",
        "      <th>nodes</th>\n",
        "      <th>survival</th>\n",
        "    </tr>\n",
        "  </thead>\n",
        "  <tbody>\n",
        "    <tr>\n",
        "      <th>0</th>\n",
        "      <td> 30</td>\n",
        "      <td> 64</td>\n",
        "      <td> 1</td>\n",
        "      <td> 1</td>\n",
        "    </tr>\n",
        "    <tr>\n",
        "      <th>1</th>\n",
        "      <td> 30</td>\n",
        "      <td> 62</td>\n",
        "      <td> 3</td>\n",
        "      <td> 1</td>\n",
        "    </tr>\n",
        "    <tr>\n",
        "      <th>2</th>\n",
        "      <td> 30</td>\n",
        "      <td> 65</td>\n",
        "      <td> 0</td>\n",
        "      <td> 1</td>\n",
        "    </tr>\n",
        "    <tr>\n",
        "      <th>3</th>\n",
        "      <td> 31</td>\n",
        "      <td> 59</td>\n",
        "      <td> 2</td>\n",
        "      <td> 1</td>\n",
        "    </tr>\n",
        "    <tr>\n",
        "      <th>4</th>\n",
        "      <td> 31</td>\n",
        "      <td> 65</td>\n",
        "      <td> 4</td>\n",
        "      <td> 1</td>\n",
        "    </tr>\n",
        "  </tbody>\n",
        "</table>\n",
        "</div>"
       ],
       "metadata": {},
       "output_type": "pyout",
       "prompt_number": 203,
       "text": [
        "   age  op_year  nodes  survival\n",
        "0   30       64      1         1\n",
        "1   30       62      3         1\n",
        "2   30       65      0         1\n",
        "3   31       59      2         1\n",
        "4   31       65      4         1"
       ]
      }
     ],
     "prompt_number": 203
    },
    {
     "cell_type": "markdown",
     "metadata": {},
     "source": [
      "<font color='blue'>use logistic regression to predict survival after 5 years </font>"
     ]
    },
    {
     "cell_type": "code",
     "collapsed": false,
     "input": [
      "Xsur_train, Xsur_test, ysur_train, ysur_test = cross_validation.train_test_split(surgery.ix[:,0:3], surgery.ix[:,3], test_size=0.4, random_state=0)"
     ],
     "language": "python",
     "metadata": {},
     "outputs": [],
     "prompt_number": 285
    },
    {
     "cell_type": "code",
     "collapsed": false,
     "input": [
      "surgery_regression = LogisticRegression()\n",
      "surgery_regression.fit(Xsur_train, ysur_train)"
     ],
     "language": "python",
     "metadata": {},
     "outputs": [
      {
       "metadata": {},
       "output_type": "pyout",
       "prompt_number": 289,
       "text": [
        "LogisticRegression(C=1.0, class_weight=None, dual=False, fit_intercept=True,\n",
        "          intercept_scaling=1, penalty='l2', random_state=None, tol=0.0001)"
       ]
      }
     ],
     "prompt_number": 289
    },
    {
     "cell_type": "code",
     "collapsed": false,
     "input": [
      "y_sur_pred = surgery_regression.predict(Xsur_test)\n",
      "accuracy_score(ysur_test, y_sur_pred)"
     ],
     "language": "python",
     "metadata": {},
     "outputs": [
      {
       "metadata": {},
       "output_type": "pyout",
       "prompt_number": 290,
       "text": [
        "0.65853658536585369"
       ]
      }
     ],
     "prompt_number": 290
    },
    {
     "cell_type": "markdown",
     "metadata": {},
     "source": [
      "<font color='blue'>predicted about 65% of the test set</font>"
     ]
    },
    {
     "cell_type": "code",
     "collapsed": false,
     "input": [],
     "language": "python",
     "metadata": {},
     "outputs": []
    },
    {
     "cell_type": "markdown",
     "metadata": {},
     "source": [
      "#Mysql"
     ]
    },
    {
     "cell_type": "markdown",
     "metadata": {},
     "source": [
      "<font color='blue'>Who has played the most matches total in all of US Open, AUST Open, French Open?\n",
      "Answer this both for men and women.<br>\n",
      "Men: Nadal, 21 matches<br>\n",
      "Women: 4-way tie at 11 matches</font>"
     ]
    },
    {
     "cell_type": "markdown",
     "metadata": {},
     "source": [
      "mysql> insert into most_women_matches select player1 from all_women union all select player2 from all_women;"
     ]
    },
    {
     "cell_type": "markdown",
     "metadata": {},
     "source": [
      "mysql> select playername, count(playername) from most_women_matches group by playername order by count(playername) desc;"
     ]
    },
    {
     "cell_type": "markdown",
     "metadata": {},
     "source": [
      "| playername                 | count(playername) |\n",
      "+----------------------------+-------------------+\n",
      "| Serena Williams            |                11 |\n",
      "| Agnieszka Radwanska        |                11 |\n",
      "| Victoria Azarenka          |                11 |\n",
      "| Maria Sharapova            |                11 |"
     ]
    },
    {
     "cell_type": "markdown",
     "metadata": {},
     "source": [
      "<font color='blue'>Who has the highest first serve percentage? (Just the maximum value in a single match)<br>\n",
      "Men: 3-way tie between Nadal, Berlocq and Monfils<br>\n",
      "Women: Sara Errani</font>"
     ]
    },
    {
     "cell_type": "markdown",
     "metadata": {},
     "source": [
      "mysql> select player1, fsp_1 from all_men union all select player2, fsp_2 from all_men order by fsp_1 desc;\n",
      "+-------------------------+-------+\n",
      "| player1                 | fsp_1 |\n",
      "+-------------------------+-------+\n",
      "| Carlos Berlocq          | 84    |\n",
      "| Rafael Nadal            | 84    |\n",
      "| Gael Monfils            | 84    |\n",
      "| Roberto Bautista Agut   | 83    |\n",
      "| Roberto Bautista Agut   | 83    |\n",
      "| Ivan Dodig              | 83    |\n",
      "| Gael Monfils            | 83    |\n",
      "| Julien Benneteau        | 82    |\n",
      "| Roberto Bautista Agut   | 82    |\n"
     ]
    },
    {
     "cell_type": "markdown",
     "metadata": {},
     "source": [
      "mysql> select player1, fsp_1 from all_women union all select player2, fsp_2 from all_women order by fsp_1 desc;\n",
      "+----------------------------+-------+\n",
      "| player1                    | fsp_1 |\n",
      "+----------------------------+-------+\n",
      "| Sara Errani                | 91    |\n",
      "| Sara Errani                | 89    |\n",
      "| Victoria Azarenka          | 88    |\n",
      "| Sara Errani                | 87    |\n",
      "| Kurumi Nara                | 86    |\n"
     ]
    },
    {
     "cell_type": "markdown",
     "metadata": {},
     "source": [
      "<font color='blue'>What are the unforced error percentages of the top three players with the most wins? </font>"
     ]
    },
    {
     "cell_type": "markdown",
     "metadata": {},
     "source": [
      "mysql> create table women_1 as select player1, ufe_1, tpw_1, dbf_1 from all_women where result = 1;"
     ]
    },
    {
     "cell_type": "markdown",
     "metadata": {},
     "source": [
      "mysql> insert into women_1 select * from women_2;"
     ]
    },
    {
     "cell_type": "markdown",
     "metadata": {},
     "source": [
      "mysql> select player1, count(player1) from women_1 group by player1 order by count(player1) desc;\n",
      "+----------------------------+----------------+\n",
      "| player1                    | count(player1) |\n",
      "+----------------------------+----------------+\n",
      "| Serena Williams            |             10 |\n",
      "| Agnieszka Radwanska        |              9 |\n",
      "| Victoria Azarenka          |              9 |\n",
      "| Na Li                      |              8 |"
     ]
    },
    {
     "cell_type": "markdown",
     "metadata": {},
     "source": [
      "mysql> select (ufe_1 + dbf_1) / tpw_1 from women_1 where player1 = 'Serena Williams';\n",
      "+-------------------------+\n",
      "| (ufe_1 + dbf_1) / tpw_1 |\n",
      "+-------------------------+\n",
      "|      0.3275862068965517 |\n",
      "|      0.3442622950819672 |\n",
      "|     0.38333333333333336 |\n",
      "|     0.26785714285714285 |\n",
      "|     0.16666666666666666 |\n",
      "|     0.29508196721311475 |\n",
      "|                 0.34375 |\n",
      "|       0.358695652173913 |\n",
      "|     0.23076923076923078 |\n",
      "|     0.29577464788732394 |\n",
      "+-------------------------+\n",
      "10 rows in set (0.01 sec)\n"
     ]
    },
    {
     "cell_type": "markdown",
     "metadata": {},
     "source": [
      "<font color='blue'>(didn't know if you wanted an average of all the % or...) </font>"
     ]
    },
    {
     "cell_type": "markdown",
     "metadata": {},
     "source": [
      "mysql> select avg((ufe_1 + dbf_1) / tpw_1) from women_1 where player1 = 'Serena Williams';\n",
      "+------------------------------+\n",
      "| avg((ufe_1 + dbf_1) / tpw_1) |\n",
      "+------------------------------+\n",
      "|           0.3013777142879245 |\n",
      "+------------------------------+\n",
      "1 row in set (0.00 sec)\n"
     ]
    },
    {
     "cell_type": "markdown",
     "metadata": {},
     "source": [
      "mysql> select avg((ufe_1 + dbf_1) / tpw_1) from women_1 where player1 = 'Agnieszka Radwanska';\n",
      "+------------------------------+\n",
      "| avg((ufe_1 + dbf_1) / tpw_1) |\n",
      "+------------------------------+\n",
      "|          0.19122738582783066 |\n",
      "+------------------------------+\n",
      "1 row in set (0.00 sec)\n"
     ]
    },
    {
     "cell_type": "markdown",
     "metadata": {},
     "source": [
      "mysql> select avg((ufe_1 + dbf_1) / tpw_1) from women_1 where player1 = 'Victoria Azarenka';\n",
      "+------------------------------+\n",
      "| avg((ufe_1 + dbf_1) / tpw_1) |\n",
      "+------------------------------+\n",
      "|          0.33848661319731466 |\n",
      "+------------------------------+"
     ]
    },
    {
     "cell_type": "markdown",
     "metadata": {},
     "source": [
      "<font color='blue'>and the men</font>"
     ]
    },
    {
     "cell_type": "markdown",
     "metadata": {},
     "source": [
      "+------------------------+----------------+\n",
      "| player1                | count(player1) |\n",
      "+------------------------+----------------+\n",
      "| Rafael Nadal           |             20 |\n",
      "| Stanislas Wawrinka     |             15 |\n",
      "| Novak Djokovic         |             14 |\n"
     ]
    },
    {
     "cell_type": "markdown",
     "metadata": {},
     "source": [
      "mysql> select avg((ufe_1 + dbf_1) / tpw_1) from men_1 where player1 = 'Rafael Nadal';\n",
      "+------------------------------+\n",
      "| avg((ufe_1 + dbf_1) / tpw_1) |\n",
      "+------------------------------+\n",
      "|          0.16666458526087757 |\n",
      "+------------------------------+"
     ]
    },
    {
     "cell_type": "markdown",
     "metadata": {},
     "source": [
      "mysql> select avg((ufe_1 + dbf_1) / tpw_1) from men_1 where player1 = 'Stanislas Wawrinka';\n",
      "+------------------------------+\n",
      "| avg((ufe_1 + dbf_1) / tpw_1) |\n",
      "+------------------------------+\n",
      "|          0.23948796155267188 |\n",
      "+------------------------------+"
     ]
    },
    {
     "cell_type": "markdown",
     "metadata": {},
     "source": [
      "mysql> select avg((ufe_1 + dbf_1) / tpw_1) from men_1 where player1 = 'Novak Djokovic';\n",
      "+------------------------------+\n",
      "| avg((ufe_1 + dbf_1) / tpw_1) |\n",
      "+------------------------------+\n",
      "|          0.17016559528445355 |\n",
      "+------------------------------+"
     ]
    }
   ],
   "metadata": {}
  }
 ]
}