{
 "metadata": {
  "name": "",
  "signature": "sha256:9e18e6ff51554aa4d7c3ba469afe5382b88d2530ff2601b7ef0cfcfcf54f4ce0"
 },
 "nbformat": 3,
 "nbformat_minor": 0,
 "worksheets": [
  {
   "cells": [
    {
     "cell_type": "code",
     "collapsed": false,
     "input": [
      "import thinkstats"
     ],
     "language": "python",
     "metadata": {},
     "outputs": [],
     "prompt_number": 3
    },
    {
     "cell_type": "code",
     "collapsed": false,
     "input": [
      "type(thinkstats)"
     ],
     "language": "python",
     "metadata": {},
     "outputs": [
      {
       "metadata": {},
       "output_type": "pyout",
       "prompt_number": 11,
       "text": [
        "module"
       ]
      }
     ],
     "prompt_number": 11
    },
    {
     "cell_type": "markdown",
     "metadata": {},
     "source": [
      "Ex 2-1"
     ]
    },
    {
     "cell_type": "code",
     "collapsed": false,
     "input": [
      "import math\n",
      "p = [1,1,1,3,3,591]\n",
      "def Pumpkin(x):\n",
      "    print \"the mean is\", thinkstats.Mean(x)\n",
      "    print \"the variance is\", thinkstats.Var(x)\n",
      "    print \"the standard deviation is\", math.sqrt(thinkstats.Var(x))"
     ],
     "language": "python",
     "metadata": {},
     "outputs": [],
     "prompt_number": 35
    },
    {
     "cell_type": "code",
     "collapsed": false,
     "input": [
      "Pumpkin(p)"
     ],
     "language": "python",
     "metadata": {},
     "outputs": [
      {
       "output_type": "stream",
       "stream": "stdout",
       "text": [
        "the mean is 100.0\n",
        "the variance is 48217.0\n",
        "the standard deviation is 219.583697027\n"
       ]
      }
     ],
     "prompt_number": 36
    },
    {
     "cell_type": "markdown",
     "metadata": {},
     "source": [
      "Ex 2-2"
     ]
    },
    {
     "cell_type": "code",
     "collapsed": false,
     "input": [
      "import survey\n",
      "import first\n",
      "\n",
      "table = survey.Pregnancies()\n",
      "\n",
      "def NewProcess(table):\n",
      "    \"\"\"Runs analysis on table finding SD\"\"\"\n",
      "    \n",
      "    table.ReadRecords()\n",
      "    firsts, others = PartitionRecords(table)\n",
      "\n",
      "    firsts.lengths = [p.prglength for p in firsts.records]\n",
      "    firsts.mu = Mean(firsts.lengths)\n",
      "    firsts.sd = thinkstats.Var(firsts.lengths)\n",
      "    \n",
      "    sd1 = math.sqrt(firsts.sd)\n",
      "    \n",
      "    others.lengths = [p.prglength for p in others.records]\n",
      "    others.mu = Mean(others.lengths)\n",
      "    others.sd = thinkstats.Var(others.lengths)\n",
      "    \n",
      "    sd2 = math.sqrt(others.sd)\n",
      "    \n",
      "    print \"First babies standard deviation\", sd1\n",
      "    print \"others std dev\", sd2\n",
      "    \n",
      "NewProcess(table)\n"
     ],
     "language": "python",
     "metadata": {},
     "outputs": [
      {
       "output_type": "stream",
       "stream": "stdout",
       "text": [
        "First babies standard deviation 2.79158506982\n",
        "others std dev 2.61557611068\n"
       ]
      }
     ],
     "prompt_number": 79
    },
    {
     "cell_type": "markdown",
     "metadata": {},
     "source": [
      "Ex 2-3"
     ]
    },
    {
     "cell_type": "code",
     "collapsed": false,
     "input": [
      "import Pmf\n",
      "import operator\n",
      "histobj = Pmf.MakeHistFromList([1,2,2,3,5,5,5,5,2,2,2,2,2,2,2,2])\n",
      "def AllModes(histobj):\n",
      "    \"\"\"takes histogram object and returns list of frequencies, values in descending order\"\"\"\n",
      "    sort = {}\n",
      "    for val, freq in histobj.Items():\n",
      "        sort[val] = freq\n",
      "        sortedsort = sorted(sort.iteritems(), key=operator.itemgetter(1), reverse = True)\n",
      "    print sortedsort\n",
      "   \n",
      "AllModes(histobj)"
     ],
     "language": "python",
     "metadata": {},
     "outputs": [
      {
       "output_type": "stream",
       "stream": "stdout",
       "text": [
        "[(2, 10), (5, 4), (1, 1), (3, 1)]\n"
       ]
      }
     ],
     "prompt_number": 70
    },
    {
     "cell_type": "markdown",
     "metadata": {},
     "source": [
      "Ex 2-5"
     ]
    },
    {
     "cell_type": "code",
     "collapsed": false,
     "input": [
      "pmfobj = Pmf.MakePmfFromList([2,2,2,2,2])\n",
      "\n",
      "def PmfMean(pmfobj):\n",
      "    print pmfobj.Mean()\n",
      "    \n",
      "def PmfVar(pmfobj):\n",
      "    print pmfobj.Var()"
     ],
     "language": "python",
     "metadata": {},
     "outputs": [],
     "prompt_number": 80
    },
    {
     "cell_type": "code",
     "collapsed": false,
     "input": [
      "PmfVar(pmfobj)"
     ],
     "language": "python",
     "metadata": {},
     "outputs": [
      {
       "output_type": "stream",
       "stream": "stdout",
       "text": [
        "0.0\n"
       ]
      }
     ],
     "prompt_number": 82
    },
    {
     "cell_type": "code",
     "collapsed": false,
     "input": [],
     "language": "python",
     "metadata": {},
     "outputs": []
    }
   ],
   "metadata": {}
  }
 ]
}